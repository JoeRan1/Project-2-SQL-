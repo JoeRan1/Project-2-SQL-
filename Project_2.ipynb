{
 "cells": [
  {
   "cell_type": "markdown",
   "id": "42289889-bd57-434e-9637-d3e354756316",
   "metadata": {
    "id": "42289889-bd57-434e-9637-d3e354756316"
   },
   "source": [
    "<center> <img src = https://raw.githubusercontent.com/AndreyRysistov/DatasetsForPandas/main/hh%20label.jpg alt=\"drawing\" style=\"width:400px;\">"
   ]
  },
  {
   "cell_type": "code",
   "execution_count": 580,
   "id": "fc00bc21-9dbf-42a0-a266-191848c40fe2",
   "metadata": {},
   "outputs": [
    {
     "name": "stdout",
     "output_type": "stream",
     "text": [
      "Requirement already satisfied: psycopg2 in c:\\users\\userpc\\anaconda3\\lib\\site-packages (2.9.9)\n",
      "Note: you may need to restart the kernel to use updated packages.\n"
     ]
    }
   ],
   "source": [
    "pip install psycopg2"
   ]
  },
  {
   "cell_type": "code",
   "execution_count": 581,
   "id": "dccfde33-2452-43fb-a8a5-5c6ebc02a71d",
   "metadata": {
    "id": "dccfde33-2452-43fb-a8a5-5c6ebc02a71d"
   },
   "outputs": [],
   "source": [
    "import pandas as pd\n",
    "import psycopg2\n"
   ]
  },
  {
   "cell_type": "code",
   "execution_count": 583,
   "id": "G4X_q8KBf7SF",
   "metadata": {
    "id": "G4X_q8KBf7SF"
   },
   "outputs": [],
   "source": [
    "connection = psycopg2.connect(\n",
    "    dbname=DBNAME,\n",
    "    user=USER,\n",
    "    host=HOST,\n",
    "    password=PASSWORD,\n",
    "    port=PORT\n",
    ")"
   ]
  },
  {
   "cell_type": "markdown",
   "id": "0dc6476b-7a00-44f1-ac93-6e3baed33a29",
   "metadata": {
    "id": "0dc6476b-7a00-44f1-ac93-6e3baed33a29"
   },
   "source": [
    "# Юнит 3. Предварительный анализ данных"
   ]
  },
  {
   "cell_type": "markdown",
   "id": "889782b6-8d1c-410e-8920-e57f27917c64",
   "metadata": {
    "id": "889782b6-8d1c-410e-8920-e57f27917c64"
   },
   "source": [
    "1. Напишите запрос, который посчитает количество вакансий в нашей базе (вакансии находятся в таблице vacancies). "
   ]
  },
  {
   "cell_type": "code",
   "execution_count": 586,
   "id": "bc39e68e-ed02-4ee2-9235-7258a2f867a8",
   "metadata": {
    "id": "bc39e68e-ed02-4ee2-9235-7258a2f867a8"
   },
   "outputs": [],
   "source": [
    "# текст запроса\n",
    "query_3_1 = '''\n",
    "  SELECT COUNT(DISTINCT id)\n",
    "    FROM vacancies\n",
    "'''\n"
   ]
  },
  {
   "cell_type": "code",
   "execution_count": 587,
   "id": "7mAwtsk4hEHY",
   "metadata": {
    "id": "7mAwtsk4hEHY"
   },
   "outputs": [
    {
     "name": "stderr",
     "output_type": "stream",
     "text": [
      "C:\\Users\\UserPC\\AppData\\Local\\Temp\\ipykernel_14936\\2279918825.py:2: UserWarning: pandas only supports SQLAlchemy connectable (engine/connection) or database string URI or sqlite3 DBAPI2 connection. Other DBAPI2 objects are not tested. Please consider using SQLAlchemy.\n",
      "  result_3_1=pd.read_sql_query(query_3_1, connection)\n"
     ]
    },
    {
     "data": {
      "text/html": [
       "<div>\n",
       "<style scoped>\n",
       "    .dataframe tbody tr th:only-of-type {\n",
       "        vertical-align: middle;\n",
       "    }\n",
       "\n",
       "    .dataframe tbody tr th {\n",
       "        vertical-align: top;\n",
       "    }\n",
       "\n",
       "    .dataframe thead th {\n",
       "        text-align: right;\n",
       "    }\n",
       "</style>\n",
       "<table border=\"1\" class=\"dataframe\">\n",
       "  <thead>\n",
       "    <tr style=\"text-align: right;\">\n",
       "      <th></th>\n",
       "      <th>count</th>\n",
       "    </tr>\n",
       "  </thead>\n",
       "  <tbody>\n",
       "    <tr>\n",
       "      <th>0</th>\n",
       "      <td>49197</td>\n",
       "    </tr>\n",
       "  </tbody>\n",
       "</table>\n",
       "</div>"
      ],
      "text/plain": [
       "   count\n",
       "0  49197"
      ]
     },
     "execution_count": 587,
     "metadata": {},
     "output_type": "execute_result"
    }
   ],
   "source": [
    "# результат запроса\n",
    "result_3_1=pd.read_sql_query(query_3_1, connection)\n",
    "result_3_1"
   ]
  },
  {
   "cell_type": "markdown",
   "id": "b583485d-1f9e-494e-ada4-80ffff7c53d6",
   "metadata": {
    "id": "b583485d-1f9e-494e-ada4-80ffff7c53d6"
   },
   "source": [
    "2. Напишите запрос, который посчитает количество работодателей (таблица employers). "
   ]
  },
  {
   "cell_type": "code",
   "execution_count": 589,
   "id": "5408c52c-3407-4a63-b25b-1aafa2322d28",
   "metadata": {
    "id": "5408c52c-3407-4a63-b25b-1aafa2322d28"
   },
   "outputs": [],
   "source": [
    "# текст запроса\n",
    "query_3_2 = '''\n",
    "  SELECT COUNT(DISTINCT id)\n",
    "    FROM employers\n",
    "'''"
   ]
  },
  {
   "cell_type": "code",
   "execution_count": 590,
   "id": "jVL4eshKhdqc",
   "metadata": {
    "id": "jVL4eshKhdqc"
   },
   "outputs": [
    {
     "name": "stderr",
     "output_type": "stream",
     "text": [
      "C:\\Users\\UserPC\\AppData\\Local\\Temp\\ipykernel_14936\\210345736.py:2: UserWarning: pandas only supports SQLAlchemy connectable (engine/connection) or database string URI or sqlite3 DBAPI2 connection. Other DBAPI2 objects are not tested. Please consider using SQLAlchemy.\n",
      "  result_3_2=pd.read_sql_query(query_3_2, connection)\n"
     ]
    },
    {
     "data": {
      "text/html": [
       "<div>\n",
       "<style scoped>\n",
       "    .dataframe tbody tr th:only-of-type {\n",
       "        vertical-align: middle;\n",
       "    }\n",
       "\n",
       "    .dataframe tbody tr th {\n",
       "        vertical-align: top;\n",
       "    }\n",
       "\n",
       "    .dataframe thead th {\n",
       "        text-align: right;\n",
       "    }\n",
       "</style>\n",
       "<table border=\"1\" class=\"dataframe\">\n",
       "  <thead>\n",
       "    <tr style=\"text-align: right;\">\n",
       "      <th></th>\n",
       "      <th>count</th>\n",
       "    </tr>\n",
       "  </thead>\n",
       "  <tbody>\n",
       "    <tr>\n",
       "      <th>0</th>\n",
       "      <td>23501</td>\n",
       "    </tr>\n",
       "  </tbody>\n",
       "</table>\n",
       "</div>"
      ],
      "text/plain": [
       "   count\n",
       "0  23501"
      ]
     },
     "execution_count": 590,
     "metadata": {},
     "output_type": "execute_result"
    }
   ],
   "source": [
    "# результат запроса\n",
    "result_3_2=pd.read_sql_query(query_3_2, connection)\n",
    "result_3_2"
   ]
  },
  {
   "cell_type": "markdown",
   "id": "a2bfff1f-c975-4bf6-84be-2185d79dcb76",
   "metadata": {
    "id": "a2bfff1f-c975-4bf6-84be-2185d79dcb76"
   },
   "source": [
    "3. Посчитате с помощью запроса количество регионов (таблица areas)."
   ]
  },
  {
   "cell_type": "code",
   "execution_count": 592,
   "id": "1m8QJwBYhey6",
   "metadata": {
    "id": "1m8QJwBYhey6"
   },
   "outputs": [],
   "source": [
    "# текст запроса\n",
    "query_3_3 = '''\n",
    "  SELECT COUNT(DISTINCT id)\n",
    "    FROM areas\n",
    "'''"
   ]
  },
  {
   "cell_type": "code",
   "execution_count": 593,
   "id": "EZsn9tlfhe7f",
   "metadata": {
    "id": "EZsn9tlfhe7f"
   },
   "outputs": [
    {
     "name": "stderr",
     "output_type": "stream",
     "text": [
      "C:\\Users\\UserPC\\AppData\\Local\\Temp\\ipykernel_14936\\3942791697.py:2: UserWarning: pandas only supports SQLAlchemy connectable (engine/connection) or database string URI or sqlite3 DBAPI2 connection. Other DBAPI2 objects are not tested. Please consider using SQLAlchemy.\n",
      "  result_3_3=pd.read_sql_query(query_3_3, connection)\n"
     ]
    },
    {
     "data": {
      "text/html": [
       "<div>\n",
       "<style scoped>\n",
       "    .dataframe tbody tr th:only-of-type {\n",
       "        vertical-align: middle;\n",
       "    }\n",
       "\n",
       "    .dataframe tbody tr th {\n",
       "        vertical-align: top;\n",
       "    }\n",
       "\n",
       "    .dataframe thead th {\n",
       "        text-align: right;\n",
       "    }\n",
       "</style>\n",
       "<table border=\"1\" class=\"dataframe\">\n",
       "  <thead>\n",
       "    <tr style=\"text-align: right;\">\n",
       "      <th></th>\n",
       "      <th>count</th>\n",
       "    </tr>\n",
       "  </thead>\n",
       "  <tbody>\n",
       "    <tr>\n",
       "      <th>0</th>\n",
       "      <td>1362</td>\n",
       "    </tr>\n",
       "  </tbody>\n",
       "</table>\n",
       "</div>"
      ],
      "text/plain": [
       "   count\n",
       "0   1362"
      ]
     },
     "execution_count": 593,
     "metadata": {},
     "output_type": "execute_result"
    }
   ],
   "source": [
    "# результат запроса\n",
    "result_3_3=pd.read_sql_query(query_3_3, connection)\n",
    "result_3_3"
   ]
  },
  {
   "cell_type": "markdown",
   "id": "41bb59f3-53cc-4a67-a5bc-bedf573955e4",
   "metadata": {
    "id": "41bb59f3-53cc-4a67-a5bc-bedf573955e4"
   },
   "source": [
    "4. Посчитате с помощью запроса количество сфер деятельности в базе (таблица industries)."
   ]
  },
  {
   "cell_type": "code",
   "execution_count": 595,
   "id": "14179c1a-0353-4f10-85ce-2fcbdbd6906e",
   "metadata": {
    "id": "d286cf4c-707b-4cd2-9190-7ab3587d04a1"
   },
   "outputs": [],
   "source": [
    "# текст запроса\n",
    "query_3_4 = '''\n",
    "  SELECT COUNT(DISTINCT id)\n",
    "    FROM industries\n",
    "'''"
   ]
  },
  {
   "cell_type": "code",
   "execution_count": 596,
   "id": "JYAaoZ4qhfzW",
   "metadata": {
    "id": "JYAaoZ4qhfzW"
   },
   "outputs": [
    {
     "name": "stderr",
     "output_type": "stream",
     "text": [
      "C:\\Users\\UserPC\\AppData\\Local\\Temp\\ipykernel_14936\\3114446276.py:2: UserWarning: pandas only supports SQLAlchemy connectable (engine/connection) or database string URI or sqlite3 DBAPI2 connection. Other DBAPI2 objects are not tested. Please consider using SQLAlchemy.\n",
      "  result_3_4=pd.read_sql_query(query_3_4, connection)\n"
     ]
    },
    {
     "data": {
      "text/html": [
       "<div>\n",
       "<style scoped>\n",
       "    .dataframe tbody tr th:only-of-type {\n",
       "        vertical-align: middle;\n",
       "    }\n",
       "\n",
       "    .dataframe tbody tr th {\n",
       "        vertical-align: top;\n",
       "    }\n",
       "\n",
       "    .dataframe thead th {\n",
       "        text-align: right;\n",
       "    }\n",
       "</style>\n",
       "<table border=\"1\" class=\"dataframe\">\n",
       "  <thead>\n",
       "    <tr style=\"text-align: right;\">\n",
       "      <th></th>\n",
       "      <th>count</th>\n",
       "    </tr>\n",
       "  </thead>\n",
       "  <tbody>\n",
       "    <tr>\n",
       "      <th>0</th>\n",
       "      <td>294</td>\n",
       "    </tr>\n",
       "  </tbody>\n",
       "</table>\n",
       "</div>"
      ],
      "text/plain": [
       "   count\n",
       "0    294"
      ]
     },
     "execution_count": 596,
     "metadata": {},
     "output_type": "execute_result"
    }
   ],
   "source": [
    "# результат запроса\n",
    "result_3_4=pd.read_sql_query(query_3_4, connection)\n",
    "result_3_4"
   ]
  },
  {
   "cell_type": "markdown",
   "id": "9a8a2181-6914-448b-85f1-38f5f18b8a93",
   "metadata": {
    "id": "9a8a2181-6914-448b-85f1-38f5f18b8a93"
   },
   "source": [
    "***"
   ]
  },
  {
   "cell_type": "markdown",
   "id": "b0ae300d-a9f4-465d-bc8b-12e2bd2a551b",
   "metadata": {
    "id": "be4e9bd3-a4db-4a20-82fb-6b02fc2957e0"
   },
   "source": [
    "По предварительному анализу выяснилось, что вакансии представлены более чем из тысячи регионов и почти 300 различных сфер. \n",
    "Как и ожидалось, количество вакансий превышает количество работодателей, и на каждую компанию в среднем приходится по две вакансии."
   ]
  },
  {
   "cell_type": "markdown",
   "id": "8d62a9f3-f64e-4fe7-bdac-c4dffa16155e",
   "metadata": {
    "id": "8d62a9f3-f64e-4fe7-bdac-c4dffa16155e"
   },
   "source": [
    "# Юнит 4. Детальный анализ вакансий"
   ]
  },
  {
   "cell_type": "markdown",
   "id": "93053d3d-b284-481a-9cf7-012d7014c0e0",
   "metadata": {
    "id": "93053d3d-b284-481a-9cf7-012d7014c0e0"
   },
   "source": [
    "1. Напишите запрос, который позволит узнать, сколько (cnt) вакансий в каждом регионе (area).\n",
    "Отсортируйте по количеству вакансий в порядке убывания."
   ]
  },
  {
   "cell_type": "code",
   "execution_count": 601,
   "id": "3f069da6-fdc9-4ae7-b514-fafe2675efd3",
   "metadata": {
    "id": "3f069da6-fdc9-4ae7-b514-fafe2675efd3"
   },
   "outputs": [],
   "source": [
    "# текст запроса\n",
    "query_4_1 = '''\n",
    "SELECT a.name area, COUNT(v.id) cnt\n",
    "FROM vacancies v\n",
    "JOIN areas a ON v.area_id=a.id\n",
    "GROUP BY 1\n",
    "ORDER BY COUNT(v.id) DESC\n",
    "LIMIT 5\n",
    "'''"
   ]
  },
  {
   "cell_type": "code",
   "execution_count": 602,
   "id": "e1191950-d658-4086-bef2-4736e3eabcfc",
   "metadata": {
    "id": "P7QL86hrjhRJ"
   },
   "outputs": [
    {
     "name": "stderr",
     "output_type": "stream",
     "text": [
      "C:\\Users\\UserPC\\AppData\\Local\\Temp\\ipykernel_14936\\3026521991.py:1: UserWarning: pandas only supports SQLAlchemy connectable (engine/connection) or database string URI or sqlite3 DBAPI2 connection. Other DBAPI2 objects are not tested. Please consider using SQLAlchemy.\n",
      "  result_4_1=pd.read_sql_query(query_4_1, connection)\n"
     ]
    },
    {
     "data": {
      "text/html": [
       "<div>\n",
       "<style scoped>\n",
       "    .dataframe tbody tr th:only-of-type {\n",
       "        vertical-align: middle;\n",
       "    }\n",
       "\n",
       "    .dataframe tbody tr th {\n",
       "        vertical-align: top;\n",
       "    }\n",
       "\n",
       "    .dataframe thead th {\n",
       "        text-align: right;\n",
       "    }\n",
       "</style>\n",
       "<table border=\"1\" class=\"dataframe\">\n",
       "  <thead>\n",
       "    <tr style=\"text-align: right;\">\n",
       "      <th></th>\n",
       "      <th>area</th>\n",
       "      <th>cnt</th>\n",
       "    </tr>\n",
       "  </thead>\n",
       "  <tbody>\n",
       "    <tr>\n",
       "      <th>0</th>\n",
       "      <td>Москва</td>\n",
       "      <td>5333</td>\n",
       "    </tr>\n",
       "    <tr>\n",
       "      <th>1</th>\n",
       "      <td>Санкт-Петербург</td>\n",
       "      <td>2851</td>\n",
       "    </tr>\n",
       "    <tr>\n",
       "      <th>2</th>\n",
       "      <td>Минск</td>\n",
       "      <td>2112</td>\n",
       "    </tr>\n",
       "    <tr>\n",
       "      <th>3</th>\n",
       "      <td>Новосибирск</td>\n",
       "      <td>2006</td>\n",
       "    </tr>\n",
       "    <tr>\n",
       "      <th>4</th>\n",
       "      <td>Алматы</td>\n",
       "      <td>1892</td>\n",
       "    </tr>\n",
       "  </tbody>\n",
       "</table>\n",
       "</div>"
      ],
      "text/plain": [
       "              area   cnt\n",
       "0           Москва  5333\n",
       "1  Санкт-Петербург  2851\n",
       "2            Минск  2112\n",
       "3      Новосибирск  2006\n",
       "4           Алматы  1892"
      ]
     },
     "execution_count": 602,
     "metadata": {},
     "output_type": "execute_result"
    }
   ],
   "source": [
    "result_4_1=pd.read_sql_query(query_4_1, connection)\n",
    "result_4_1"
   ]
  },
  {
   "cell_type": "markdown",
   "id": "4266f0b6-1646-492a-88b4-2f6a46502135",
   "metadata": {
    "id": "4266f0b6-1646-492a-88b4-2f6a46502135"
   },
   "source": [
    "2. Напишите запрос, чтобы определить у какого количества вакансий заполнено хотя бы одно из двух полей с зарплатой."
   ]
  },
  {
   "cell_type": "code",
   "execution_count": 604,
   "id": "0c44b350-72eb-4d65-8b54-a1fc449ba9fd",
   "metadata": {
    "id": "0c44b350-72eb-4d65-8b54-a1fc449ba9fd"
   },
   "outputs": [],
   "source": [
    "# текст запроса\n",
    "query_4_2 = '''\n",
    "SELECT COUNT(*) \n",
    "FROM vacancies \n",
    "WHERE salary_from IS NOT NULL OR salary_to IS NOT NULL\n",
    "'''"
   ]
  },
  {
   "cell_type": "code",
   "execution_count": 605,
   "id": "rhvwaMDkoWTi",
   "metadata": {
    "id": "rhvwaMDkoWTi"
   },
   "outputs": [
    {
     "name": "stderr",
     "output_type": "stream",
     "text": [
      "C:\\Users\\UserPC\\AppData\\Local\\Temp\\ipykernel_14936\\345800217.py:2: UserWarning: pandas only supports SQLAlchemy connectable (engine/connection) or database string URI or sqlite3 DBAPI2 connection. Other DBAPI2 objects are not tested. Please consider using SQLAlchemy.\n",
      "  result_4_2=pd.read_sql_query(query_4_2, connection)\n"
     ]
    },
    {
     "data": {
      "text/html": [
       "<div>\n",
       "<style scoped>\n",
       "    .dataframe tbody tr th:only-of-type {\n",
       "        vertical-align: middle;\n",
       "    }\n",
       "\n",
       "    .dataframe tbody tr th {\n",
       "        vertical-align: top;\n",
       "    }\n",
       "\n",
       "    .dataframe thead th {\n",
       "        text-align: right;\n",
       "    }\n",
       "</style>\n",
       "<table border=\"1\" class=\"dataframe\">\n",
       "  <thead>\n",
       "    <tr style=\"text-align: right;\">\n",
       "      <th></th>\n",
       "      <th>count</th>\n",
       "    </tr>\n",
       "  </thead>\n",
       "  <tbody>\n",
       "    <tr>\n",
       "      <th>0</th>\n",
       "      <td>24073</td>\n",
       "    </tr>\n",
       "  </tbody>\n",
       "</table>\n",
       "</div>"
      ],
      "text/plain": [
       "   count\n",
       "0  24073"
      ]
     },
     "execution_count": 605,
     "metadata": {},
     "output_type": "execute_result"
    }
   ],
   "source": [
    "# результат запроса\n",
    "result_4_2=pd.read_sql_query(query_4_2, connection)\n",
    "result_4_2"
   ]
  },
  {
   "cell_type": "markdown",
   "id": "635c4d5d-f323-4c66-b428-50a088120aa0",
   "metadata": {
    "id": "635c4d5d-f323-4c66-b428-50a088120aa0"
   },
   "source": [
    "3. Найдите средние значения для нижней и верхней границы зарплатной вилки. Округлите значения до целого."
   ]
  },
  {
   "cell_type": "code",
   "execution_count": 607,
   "id": "603cdbe4-0ec3-4106-8eaf-c73fcdd29165",
   "metadata": {
    "id": "603cdbe4-0ec3-4106-8eaf-c73fcdd29165"
   },
   "outputs": [],
   "source": [
    "# текст запроса\n",
    "query_4_3 = '''\n",
    "SELECT  AVG(salary_from), AVG(salary_to)\n",
    "FROM vacancies \n",
    "WHERE salary_to IS NOT NULL OR salary_from IS NOT NULL\n",
    "'''"
   ]
  },
  {
   "cell_type": "code",
   "execution_count": 608,
   "id": "a27718b5-baf6-4cf4-bdd0-0527d387a545",
   "metadata": {
    "id": "pswpAb66ovZZ"
   },
   "outputs": [
    {
     "name": "stderr",
     "output_type": "stream",
     "text": [
      "C:\\Users\\UserPC\\AppData\\Local\\Temp\\ipykernel_14936\\2185032766.py:1: UserWarning: pandas only supports SQLAlchemy connectable (engine/connection) or database string URI or sqlite3 DBAPI2 connection. Other DBAPI2 objects are not tested. Please consider using SQLAlchemy.\n",
      "  result_4_3=pd.read_sql_query(query_4_3, connection)\n"
     ]
    },
    {
     "data": {
      "text/html": [
       "<div>\n",
       "<style scoped>\n",
       "    .dataframe tbody tr th:only-of-type {\n",
       "        vertical-align: middle;\n",
       "    }\n",
       "\n",
       "    .dataframe tbody tr th {\n",
       "        vertical-align: top;\n",
       "    }\n",
       "\n",
       "    .dataframe thead th {\n",
       "        text-align: right;\n",
       "    }\n",
       "</style>\n",
       "<table border=\"1\" class=\"dataframe\">\n",
       "  <thead>\n",
       "    <tr style=\"text-align: right;\">\n",
       "      <th></th>\n",
       "      <th>avg</th>\n",
       "      <th>avg</th>\n",
       "    </tr>\n",
       "  </thead>\n",
       "  <tbody>\n",
       "    <tr>\n",
       "      <th>0</th>\n",
       "      <td>71064.657901</td>\n",
       "      <td>110536.741923</td>\n",
       "    </tr>\n",
       "  </tbody>\n",
       "</table>\n",
       "</div>"
      ],
      "text/plain": [
       "            avg            avg\n",
       "0  71064.657901  110536.741923"
      ]
     },
     "execution_count": 608,
     "metadata": {},
     "output_type": "execute_result"
    }
   ],
   "source": [
    "result_4_3=pd.read_sql_query(query_4_3, connection)\n",
    "result_4_3"
   ]
  },
  {
   "cell_type": "markdown",
   "id": "f3fdaec9-5fd3-4260-9cf5-1d7406b628a5",
   "metadata": {
    "id": "f3fdaec9-5fd3-4260-9cf5-1d7406b628a5"
   },
   "source": [
    "4. Напишите запрос, который выведет количество вакансий для каждого сочетания типа рабочего графика (schedule) и типа трудоустройства (employment), используемого в вакансиях. Результат отсортируйте по убыванию количества.\n"
   ]
  },
  {
   "cell_type": "code",
   "execution_count": 610,
   "id": "1ea710ec-871b-431e-9462-c7d0fd87011b",
   "metadata": {
    "id": "1ea710ec-871b-431e-9462-c7d0fd87011b"
   },
   "outputs": [],
   "source": [
    "# текст запроса\n",
    "query_4_4 = '''\n",
    "SELECT schedule, employment, COUNT(*)\n",
    "FROM vacancies\n",
    "GROUP BY 1, 2\n",
    "ORDER BY 3 DESC\n",
    "'''"
   ]
  },
  {
   "cell_type": "code",
   "execution_count": 611,
   "id": "ccbb5647-85c9-4356-bb6c-c0677a5e7af1",
   "metadata": {
    "id": "lGUVqavdo4JQ"
   },
   "outputs": [
    {
     "name": "stderr",
     "output_type": "stream",
     "text": [
      "C:\\Users\\UserPC\\AppData\\Local\\Temp\\ipykernel_14936\\3109482894.py:1: UserWarning: pandas only supports SQLAlchemy connectable (engine/connection) or database string URI or sqlite3 DBAPI2 connection. Other DBAPI2 objects are not tested. Please consider using SQLAlchemy.\n",
      "  result_4_4=pd.read_sql_query(query_4_4, connection)\n"
     ]
    },
    {
     "data": {
      "text/html": [
       "<div>\n",
       "<style scoped>\n",
       "    .dataframe tbody tr th:only-of-type {\n",
       "        vertical-align: middle;\n",
       "    }\n",
       "\n",
       "    .dataframe tbody tr th {\n",
       "        vertical-align: top;\n",
       "    }\n",
       "\n",
       "    .dataframe thead th {\n",
       "        text-align: right;\n",
       "    }\n",
       "</style>\n",
       "<table border=\"1\" class=\"dataframe\">\n",
       "  <thead>\n",
       "    <tr style=\"text-align: right;\">\n",
       "      <th></th>\n",
       "      <th>schedule</th>\n",
       "      <th>employment</th>\n",
       "      <th>count</th>\n",
       "    </tr>\n",
       "  </thead>\n",
       "  <tbody>\n",
       "    <tr>\n",
       "      <th>0</th>\n",
       "      <td>Полный день</td>\n",
       "      <td>Полная занятость</td>\n",
       "      <td>35367</td>\n",
       "    </tr>\n",
       "    <tr>\n",
       "      <th>1</th>\n",
       "      <td>Удаленная работа</td>\n",
       "      <td>Полная занятость</td>\n",
       "      <td>7802</td>\n",
       "    </tr>\n",
       "    <tr>\n",
       "      <th>2</th>\n",
       "      <td>Гибкий график</td>\n",
       "      <td>Полная занятость</td>\n",
       "      <td>1593</td>\n",
       "    </tr>\n",
       "    <tr>\n",
       "      <th>3</th>\n",
       "      <td>Удаленная работа</td>\n",
       "      <td>Частичная занятость</td>\n",
       "      <td>1312</td>\n",
       "    </tr>\n",
       "    <tr>\n",
       "      <th>4</th>\n",
       "      <td>Сменный график</td>\n",
       "      <td>Полная занятость</td>\n",
       "      <td>940</td>\n",
       "    </tr>\n",
       "    <tr>\n",
       "      <th>5</th>\n",
       "      <td>Полный день</td>\n",
       "      <td>Стажировка</td>\n",
       "      <td>569</td>\n",
       "    </tr>\n",
       "    <tr>\n",
       "      <th>6</th>\n",
       "      <td>Вахтовый метод</td>\n",
       "      <td>Полная занятость</td>\n",
       "      <td>367</td>\n",
       "    </tr>\n",
       "    <tr>\n",
       "      <th>7</th>\n",
       "      <td>Полный день</td>\n",
       "      <td>Частичная занятость</td>\n",
       "      <td>347</td>\n",
       "    </tr>\n",
       "    <tr>\n",
       "      <th>8</th>\n",
       "      <td>Гибкий график</td>\n",
       "      <td>Частичная занятость</td>\n",
       "      <td>312</td>\n",
       "    </tr>\n",
       "    <tr>\n",
       "      <th>9</th>\n",
       "      <td>Полный день</td>\n",
       "      <td>Проектная работа</td>\n",
       "      <td>141</td>\n",
       "    </tr>\n",
       "    <tr>\n",
       "      <th>10</th>\n",
       "      <td>Удаленная работа</td>\n",
       "      <td>Проектная работа</td>\n",
       "      <td>133</td>\n",
       "    </tr>\n",
       "    <tr>\n",
       "      <th>11</th>\n",
       "      <td>Гибкий график</td>\n",
       "      <td>Стажировка</td>\n",
       "      <td>116</td>\n",
       "    </tr>\n",
       "    <tr>\n",
       "      <th>12</th>\n",
       "      <td>Сменный график</td>\n",
       "      <td>Частичная занятость</td>\n",
       "      <td>101</td>\n",
       "    </tr>\n",
       "    <tr>\n",
       "      <th>13</th>\n",
       "      <td>Удаленная работа</td>\n",
       "      <td>Стажировка</td>\n",
       "      <td>64</td>\n",
       "    </tr>\n",
       "    <tr>\n",
       "      <th>14</th>\n",
       "      <td>Гибкий график</td>\n",
       "      <td>Проектная работа</td>\n",
       "      <td>18</td>\n",
       "    </tr>\n",
       "    <tr>\n",
       "      <th>15</th>\n",
       "      <td>Сменный график</td>\n",
       "      <td>Стажировка</td>\n",
       "      <td>12</td>\n",
       "    </tr>\n",
       "    <tr>\n",
       "      <th>16</th>\n",
       "      <td>Вахтовый метод</td>\n",
       "      <td>Проектная работа</td>\n",
       "      <td>2</td>\n",
       "    </tr>\n",
       "    <tr>\n",
       "      <th>17</th>\n",
       "      <td>Сменный график</td>\n",
       "      <td>Проектная работа</td>\n",
       "      <td>1</td>\n",
       "    </tr>\n",
       "  </tbody>\n",
       "</table>\n",
       "</div>"
      ],
      "text/plain": [
       "            schedule           employment  count\n",
       "0        Полный день     Полная занятость  35367\n",
       "1   Удаленная работа     Полная занятость   7802\n",
       "2      Гибкий график     Полная занятость   1593\n",
       "3   Удаленная работа  Частичная занятость   1312\n",
       "4     Сменный график     Полная занятость    940\n",
       "5        Полный день           Стажировка    569\n",
       "6     Вахтовый метод     Полная занятость    367\n",
       "7        Полный день  Частичная занятость    347\n",
       "8      Гибкий график  Частичная занятость    312\n",
       "9        Полный день     Проектная работа    141\n",
       "10  Удаленная работа     Проектная работа    133\n",
       "11     Гибкий график           Стажировка    116\n",
       "12    Сменный график  Частичная занятость    101\n",
       "13  Удаленная работа           Стажировка     64\n",
       "14     Гибкий график     Проектная работа     18\n",
       "15    Сменный график           Стажировка     12\n",
       "16    Вахтовый метод     Проектная работа      2\n",
       "17    Сменный график     Проектная работа      1"
      ]
     },
     "execution_count": 611,
     "metadata": {},
     "output_type": "execute_result"
    }
   ],
   "source": [
    "result_4_4=pd.read_sql_query(query_4_4, connection)\n",
    "result_4_4"
   ]
  },
  {
   "cell_type": "markdown",
   "id": "0136ffee-0ead-4a6b-b608-61d1c753a438",
   "metadata": {
    "id": "0136ffee-0ead-4a6b-b608-61d1c753a438"
   },
   "source": [
    "5. Напишите запрос, выводящий значения поля Требуемый опыт работы (experience) в порядке возрастания количества вакансий, в которых указан данный вариант опыта. "
   ]
  },
  {
   "cell_type": "code",
   "execution_count": 613,
   "id": "5b3a8e79-f7ab-4008-b767-12aea3a205ea",
   "metadata": {
    "id": "5b3a8e79-f7ab-4008-b767-12aea3a205ea"
   },
   "outputs": [],
   "source": [
    "# текст запроса\n",
    "query_4_5 = '''\n",
    "SELECT experience, COUNT(*)\n",
    "FROM vacancies\n",
    "GROUP BY 1\n",
    "ORDER BY 2 ASC\n",
    "'''"
   ]
  },
  {
   "cell_type": "code",
   "execution_count": 614,
   "id": "62e091ce-62a4-483b-9474-86ee24b3dbb8",
   "metadata": {
    "id": "3Is64Y-hpDpq"
   },
   "outputs": [
    {
     "name": "stderr",
     "output_type": "stream",
     "text": [
      "C:\\Users\\UserPC\\AppData\\Local\\Temp\\ipykernel_14936\\943726770.py:1: UserWarning: pandas only supports SQLAlchemy connectable (engine/connection) or database string URI or sqlite3 DBAPI2 connection. Other DBAPI2 objects are not tested. Please consider using SQLAlchemy.\n",
      "  result_4_5=pd.read_sql_query(query_4_5, connection)\n"
     ]
    },
    {
     "data": {
      "text/html": [
       "<div>\n",
       "<style scoped>\n",
       "    .dataframe tbody tr th:only-of-type {\n",
       "        vertical-align: middle;\n",
       "    }\n",
       "\n",
       "    .dataframe tbody tr th {\n",
       "        vertical-align: top;\n",
       "    }\n",
       "\n",
       "    .dataframe thead th {\n",
       "        text-align: right;\n",
       "    }\n",
       "</style>\n",
       "<table border=\"1\" class=\"dataframe\">\n",
       "  <thead>\n",
       "    <tr style=\"text-align: right;\">\n",
       "      <th></th>\n",
       "      <th>experience</th>\n",
       "      <th>count</th>\n",
       "    </tr>\n",
       "  </thead>\n",
       "  <tbody>\n",
       "    <tr>\n",
       "      <th>0</th>\n",
       "      <td>Более 6 лет</td>\n",
       "      <td>1337</td>\n",
       "    </tr>\n",
       "    <tr>\n",
       "      <th>1</th>\n",
       "      <td>Нет опыта</td>\n",
       "      <td>7197</td>\n",
       "    </tr>\n",
       "    <tr>\n",
       "      <th>2</th>\n",
       "      <td>От 3 до 6 лет</td>\n",
       "      <td>14511</td>\n",
       "    </tr>\n",
       "    <tr>\n",
       "      <th>3</th>\n",
       "      <td>От 1 года до 3 лет</td>\n",
       "      <td>26152</td>\n",
       "    </tr>\n",
       "  </tbody>\n",
       "</table>\n",
       "</div>"
      ],
      "text/plain": [
       "           experience  count\n",
       "0         Более 6 лет   1337\n",
       "1           Нет опыта   7197\n",
       "2       От 3 до 6 лет  14511\n",
       "3  От 1 года до 3 лет  26152"
      ]
     },
     "execution_count": 614,
     "metadata": {},
     "output_type": "execute_result"
    }
   ],
   "source": [
    "result_4_5=pd.read_sql_query(query_4_5, connection)\n",
    "result_4_5"
   ]
  },
  {
   "cell_type": "markdown",
   "id": "oq2b7n1QpIka",
   "metadata": {
    "id": "oq2b7n1QpIka"
   },
   "source": [
    "***"
   ]
  },
  {
   "cell_type": "markdown",
   "id": "a84b0fbd-14e9-4f28-bcea-f1a45ae667d9",
   "metadata": {
    "id": "e91f87ed-e25c-4f96-9f92-b642e8c0b4fa"
   },
   "source": [
    "Вакансии чаще всего размещаются из столиц стран СНГ или крупных городов. \n",
    "Почти в половине вакансий указан хотя бы один уровень зарплаты. \n",
    "Полный рабочий день и удаленная работа с полной занятостью пользуются большой популярностью. \n",
    "Наибольший спрос наблюдается на специалистов с опытом 1-3 лет."
   ]
  },
  {
   "cell_type": "markdown",
   "id": "7ea20ab6-04a7-40a0-adec-443a0e5a42c3",
   "metadata": {
    "id": "7ea20ab6-04a7-40a0-adec-443a0e5a42c3"
   },
   "source": [
    "# Юнит 5. Анализ работодателей"
   ]
  },
  {
   "cell_type": "markdown",
   "id": "968aed80-74ef-4ffb-b5bf-c65b84e9caea",
   "metadata": {
    "id": "968aed80-74ef-4ffb-b5bf-c65b84e9caea"
   },
   "source": [
    "1. Напишите запрос, который позволит узнать, какие работодатели находятся на первом и пятом месте по количеству вакансий."
   ]
  },
  {
   "cell_type": "code",
   "execution_count": 619,
   "id": "f2d62796-d400-4ec1-a675-88112739a50e",
   "metadata": {
    "id": "f2d62796-d400-4ec1-a675-88112739a50e"
   },
   "outputs": [],
   "source": [
    "# текст запроса\n",
    "query_5_1 = '''\n",
    "SELECT e.name, COUNT(v.id)\n",
    "FROM employers e\n",
    "JOIN vacancies v ON e.id=v.employer_id\n",
    "GROUP BY 1 \n",
    "ORDER BY 2 DESC\n",
    "LIMIT 5\n",
    "'''"
   ]
  },
  {
   "cell_type": "code",
   "execution_count": 620,
   "id": "64tOMkAxqkQk",
   "metadata": {
    "id": "64tOMkAxqkQk"
   },
   "outputs": [
    {
     "name": "stderr",
     "output_type": "stream",
     "text": [
      "C:\\Users\\UserPC\\AppData\\Local\\Temp\\ipykernel_14936\\2051332779.py:2: UserWarning: pandas only supports SQLAlchemy connectable (engine/connection) or database string URI or sqlite3 DBAPI2 connection. Other DBAPI2 objects are not tested. Please consider using SQLAlchemy.\n",
      "  result_5_1=pd.read_sql_query(query_5_1, connection)\n"
     ]
    },
    {
     "data": {
      "text/html": [
       "<div>\n",
       "<style scoped>\n",
       "    .dataframe tbody tr th:only-of-type {\n",
       "        vertical-align: middle;\n",
       "    }\n",
       "\n",
       "    .dataframe tbody tr th {\n",
       "        vertical-align: top;\n",
       "    }\n",
       "\n",
       "    .dataframe thead th {\n",
       "        text-align: right;\n",
       "    }\n",
       "</style>\n",
       "<table border=\"1\" class=\"dataframe\">\n",
       "  <thead>\n",
       "    <tr style=\"text-align: right;\">\n",
       "      <th></th>\n",
       "      <th>name</th>\n",
       "      <th>count</th>\n",
       "    </tr>\n",
       "  </thead>\n",
       "  <tbody>\n",
       "    <tr>\n",
       "      <th>0</th>\n",
       "      <td>Яндекс</td>\n",
       "      <td>1933</td>\n",
       "    </tr>\n",
       "    <tr>\n",
       "      <th>1</th>\n",
       "      <td>Ростелеком</td>\n",
       "      <td>491</td>\n",
       "    </tr>\n",
       "    <tr>\n",
       "      <th>2</th>\n",
       "      <td>Тинькофф</td>\n",
       "      <td>444</td>\n",
       "    </tr>\n",
       "    <tr>\n",
       "      <th>3</th>\n",
       "      <td>СБЕР</td>\n",
       "      <td>428</td>\n",
       "    </tr>\n",
       "    <tr>\n",
       "      <th>4</th>\n",
       "      <td>Газпром нефть</td>\n",
       "      <td>331</td>\n",
       "    </tr>\n",
       "  </tbody>\n",
       "</table>\n",
       "</div>"
      ],
      "text/plain": [
       "            name  count\n",
       "0         Яндекс   1933\n",
       "1     Ростелеком    491\n",
       "2       Тинькофф    444\n",
       "3           СБЕР    428\n",
       "4  Газпром нефть    331"
      ]
     },
     "execution_count": 620,
     "metadata": {},
     "output_type": "execute_result"
    }
   ],
   "source": [
    "# результат запроса\n",
    "result_5_1=pd.read_sql_query(query_5_1, connection)\n",
    "result_5_1"
   ]
  },
  {
   "cell_type": "markdown",
   "id": "68377cfc-b378-43dc-ab7d-1195abf2c515",
   "metadata": {
    "id": "68377cfc-b378-43dc-ab7d-1195abf2c515"
   },
   "source": [
    "2. Напишите запрос, который для каждого региона выведет количество работодателей и вакансий в нём.\n",
    "Среди регионов, в которых нет вакансий, найдите тот, в котором наибольшее количество работодателей.\n"
   ]
  },
  {
   "cell_type": "code",
   "execution_count": 622,
   "id": "dd7df27a-e3e8-412e-a21a-5d389b71e891",
   "metadata": {
    "id": "dd7df27a-e3e8-412e-a21a-5d389b71e891"
   },
   "outputs": [],
   "source": [
    "# текст запроса\n",
    "query_5_2 = '''\n",
    "SELECT a.name, COUNT(e.id), COUNT(v.id)\n",
    "FROM areas a \n",
    "LEFT JOIN employers e ON e.area=a.id\n",
    "LEFT JOIN vacancies v ON v.area_id=a.id\n",
    "WHERE v.id IS NULL \n",
    "GROUP BY 1\n",
    "HAVING COUNT(e.id)>0\n",
    "ORDER BY 2 DESC\n",
    "\n",
    "'''"
   ]
  },
  {
   "cell_type": "code",
   "execution_count": 623,
   "id": "x1ikWbydrbf6",
   "metadata": {
    "id": "x1ikWbydrbf6"
   },
   "outputs": [
    {
     "name": "stderr",
     "output_type": "stream",
     "text": [
      "C:\\Users\\UserPC\\AppData\\Local\\Temp\\ipykernel_14936\\3658117081.py:2: UserWarning: pandas only supports SQLAlchemy connectable (engine/connection) or database string URI or sqlite3 DBAPI2 connection. Other DBAPI2 objects are not tested. Please consider using SQLAlchemy.\n",
      "  result_5_2=pd.read_sql_query(query_5_2, connection)\n"
     ]
    },
    {
     "data": {
      "text/html": [
       "<div>\n",
       "<style scoped>\n",
       "    .dataframe tbody tr th:only-of-type {\n",
       "        vertical-align: middle;\n",
       "    }\n",
       "\n",
       "    .dataframe tbody tr th {\n",
       "        vertical-align: top;\n",
       "    }\n",
       "\n",
       "    .dataframe thead th {\n",
       "        text-align: right;\n",
       "    }\n",
       "</style>\n",
       "<table border=\"1\" class=\"dataframe\">\n",
       "  <thead>\n",
       "    <tr style=\"text-align: right;\">\n",
       "      <th></th>\n",
       "      <th>name</th>\n",
       "      <th>count</th>\n",
       "      <th>count</th>\n",
       "    </tr>\n",
       "  </thead>\n",
       "  <tbody>\n",
       "    <tr>\n",
       "      <th>0</th>\n",
       "      <td>Россия</td>\n",
       "      <td>410</td>\n",
       "      <td>0</td>\n",
       "    </tr>\n",
       "    <tr>\n",
       "      <th>1</th>\n",
       "      <td>Казахстан</td>\n",
       "      <td>207</td>\n",
       "      <td>0</td>\n",
       "    </tr>\n",
       "    <tr>\n",
       "      <th>2</th>\n",
       "      <td>Московская область</td>\n",
       "      <td>75</td>\n",
       "      <td>0</td>\n",
       "    </tr>\n",
       "    <tr>\n",
       "      <th>3</th>\n",
       "      <td>Краснодарский край</td>\n",
       "      <td>19</td>\n",
       "      <td>0</td>\n",
       "    </tr>\n",
       "    <tr>\n",
       "      <th>4</th>\n",
       "      <td>Беларусь</td>\n",
       "      <td>18</td>\n",
       "      <td>0</td>\n",
       "    </tr>\n",
       "    <tr>\n",
       "      <th>...</th>\n",
       "      <td>...</td>\n",
       "      <td>...</td>\n",
       "      <td>...</td>\n",
       "    </tr>\n",
       "    <tr>\n",
       "      <th>181</th>\n",
       "      <td>Миллерово</td>\n",
       "      <td>1</td>\n",
       "      <td>0</td>\n",
       "    </tr>\n",
       "    <tr>\n",
       "      <th>182</th>\n",
       "      <td>Михайловка (Уфимский район, Башкортостан)</td>\n",
       "      <td>1</td>\n",
       "      <td>0</td>\n",
       "    </tr>\n",
       "    <tr>\n",
       "      <th>183</th>\n",
       "      <td>Можайск</td>\n",
       "      <td>1</td>\n",
       "      <td>0</td>\n",
       "    </tr>\n",
       "    <tr>\n",
       "      <th>184</th>\n",
       "      <td>Морозовск\\n</td>\n",
       "      <td>1</td>\n",
       "      <td>0</td>\n",
       "    </tr>\n",
       "    <tr>\n",
       "      <th>185</th>\n",
       "      <td>Несвиж</td>\n",
       "      <td>1</td>\n",
       "      <td>0</td>\n",
       "    </tr>\n",
       "  </tbody>\n",
       "</table>\n",
       "<p>186 rows × 3 columns</p>\n",
       "</div>"
      ],
      "text/plain": [
       "                                          name  count  count\n",
       "0                                       Россия    410      0\n",
       "1                                    Казахстан    207      0\n",
       "2                           Московская область     75      0\n",
       "3                           Краснодарский край     19      0\n",
       "4                                     Беларусь     18      0\n",
       "..                                         ...    ...    ...\n",
       "181                                  Миллерово      1      0\n",
       "182  Михайловка (Уфимский район, Башкортостан)      1      0\n",
       "183                                    Можайск      1      0\n",
       "184                                Морозовск\\n      1      0\n",
       "185                                     Несвиж      1      0\n",
       "\n",
       "[186 rows x 3 columns]"
      ]
     },
     "execution_count": 623,
     "metadata": {},
     "output_type": "execute_result"
    }
   ],
   "source": [
    "# результат запроса\n",
    "result_5_2=pd.read_sql_query(query_5_2, connection)\n",
    "result_5_2"
   ]
  },
  {
   "cell_type": "markdown",
   "id": "f2fe0acb-ab1a-4e15-9326-2560e22d73c1",
   "metadata": {
    "id": "f2fe0acb-ab1a-4e15-9326-2560e22d73c1"
   },
   "source": [
    "3. Для каждого работодателя посчитайте количество регионов, в которых он публикует свои вакансии. Отсортируйте результат по убыванию количества.\n"
   ]
  },
  {
   "cell_type": "code",
   "execution_count": 625,
   "id": "6271f8ad-bd2e-4196-ae4a-5b39c4c1010e",
   "metadata": {
    "id": "6271f8ad-bd2e-4196-ae4a-5b39c4c1010e"
   },
   "outputs": [],
   "source": [
    "# текст запроса\n",
    "query_5_3 = '''\n",
    "SELECT e.id, COUNT(DISTINCT v.area_id)\n",
    "FROM employers e \n",
    "JOIN areas a ON a.id=e.area\n",
    "JOIN vacancies v ON e.id=v.employer_id\n",
    "GROUP BY e.id \n",
    "ORDER BY 2 DESC\n",
    "\n",
    "'''"
   ]
  },
  {
   "cell_type": "code",
   "execution_count": 626,
   "id": "1EIvX3HasH4F",
   "metadata": {
    "id": "1EIvX3HasH4F"
   },
   "outputs": [
    {
     "name": "stderr",
     "output_type": "stream",
     "text": [
      "C:\\Users\\UserPC\\AppData\\Local\\Temp\\ipykernel_14936\\2154887199.py:2: UserWarning: pandas only supports SQLAlchemy connectable (engine/connection) or database string URI or sqlite3 DBAPI2 connection. Other DBAPI2 objects are not tested. Please consider using SQLAlchemy.\n",
      "  result_5_3=pd.read_sql_query(query_5_3, connection)\n"
     ]
    },
    {
     "data": {
      "text/html": [
       "<div>\n",
       "<style scoped>\n",
       "    .dataframe tbody tr th:only-of-type {\n",
       "        vertical-align: middle;\n",
       "    }\n",
       "\n",
       "    .dataframe tbody tr th {\n",
       "        vertical-align: top;\n",
       "    }\n",
       "\n",
       "    .dataframe thead th {\n",
       "        text-align: right;\n",
       "    }\n",
       "</style>\n",
       "<table border=\"1\" class=\"dataframe\">\n",
       "  <thead>\n",
       "    <tr style=\"text-align: right;\">\n",
       "      <th></th>\n",
       "      <th>id</th>\n",
       "      <th>count</th>\n",
       "    </tr>\n",
       "  </thead>\n",
       "  <tbody>\n",
       "    <tr>\n",
       "      <th>0</th>\n",
       "      <td>1740</td>\n",
       "      <td>181</td>\n",
       "    </tr>\n",
       "    <tr>\n",
       "      <th>1</th>\n",
       "      <td>2748</td>\n",
       "      <td>152</td>\n",
       "    </tr>\n",
       "    <tr>\n",
       "      <th>2</th>\n",
       "      <td>5724811</td>\n",
       "      <td>116</td>\n",
       "    </tr>\n",
       "    <tr>\n",
       "      <th>3</th>\n",
       "      <td>5130287</td>\n",
       "      <td>88</td>\n",
       "    </tr>\n",
       "    <tr>\n",
       "      <th>4</th>\n",
       "      <td>3682876</td>\n",
       "      <td>71</td>\n",
       "    </tr>\n",
       "    <tr>\n",
       "      <th>...</th>\n",
       "      <td>...</td>\n",
       "      <td>...</td>\n",
       "    </tr>\n",
       "    <tr>\n",
       "      <th>14901</th>\n",
       "      <td>810278</td>\n",
       "      <td>1</td>\n",
       "    </tr>\n",
       "    <tr>\n",
       "      <th>14902</th>\n",
       "      <td>810313</td>\n",
       "      <td>1</td>\n",
       "    </tr>\n",
       "    <tr>\n",
       "      <th>14903</th>\n",
       "      <td>810551</td>\n",
       "      <td>1</td>\n",
       "    </tr>\n",
       "    <tr>\n",
       "      <th>14904</th>\n",
       "      <td>810688</td>\n",
       "      <td>1</td>\n",
       "    </tr>\n",
       "    <tr>\n",
       "      <th>14905</th>\n",
       "      <td>811902</td>\n",
       "      <td>1</td>\n",
       "    </tr>\n",
       "  </tbody>\n",
       "</table>\n",
       "<p>14906 rows × 2 columns</p>\n",
       "</div>"
      ],
      "text/plain": [
       "            id  count\n",
       "0         1740    181\n",
       "1         2748    152\n",
       "2      5724811    116\n",
       "3      5130287     88\n",
       "4      3682876     71\n",
       "...        ...    ...\n",
       "14901   810278      1\n",
       "14902   810313      1\n",
       "14903   810551      1\n",
       "14904   810688      1\n",
       "14905   811902      1\n",
       "\n",
       "[14906 rows x 2 columns]"
      ]
     },
     "execution_count": 626,
     "metadata": {},
     "output_type": "execute_result"
    }
   ],
   "source": [
    "# результат запроса\n",
    "result_5_3=pd.read_sql_query(query_5_3, connection)\n",
    "result_5_3"
   ]
  },
  {
   "cell_type": "markdown",
   "id": "eab2206d-d95b-468b-8e5f-34381abf0ce7",
   "metadata": {
    "id": "eab2206d-d95b-468b-8e5f-34381abf0ce7"
   },
   "source": [
    "4. Напишите запрос для подсчёта количества работодателей, у которых не указана сфера деятельности. "
   ]
  },
  {
   "cell_type": "code",
   "execution_count": 628,
   "id": "80defb23-bfb1-4a18-8be6-bf36aa7165d5",
   "metadata": {
    "id": "80defb23-bfb1-4a18-8be6-bf36aa7165d5"
   },
   "outputs": [],
   "source": [
    "# текст запроса\n",
    "query_5_4 = '''\n",
    "SELECT COUNT(DISTINCT e.id)\n",
    "FROM employers e\n",
    "LEFT JOIN employers_industries ei ON ei.employer_id=e.id\n",
    "WHERE industry_id IS NULL\n",
    "\n",
    "'''"
   ]
  },
  {
   "cell_type": "code",
   "execution_count": 629,
   "id": "Dp_yCx6ysQSu",
   "metadata": {
    "id": "Dp_yCx6ysQSu"
   },
   "outputs": [
    {
     "name": "stderr",
     "output_type": "stream",
     "text": [
      "C:\\Users\\UserPC\\AppData\\Local\\Temp\\ipykernel_14936\\228748857.py:2: UserWarning: pandas only supports SQLAlchemy connectable (engine/connection) or database string URI or sqlite3 DBAPI2 connection. Other DBAPI2 objects are not tested. Please consider using SQLAlchemy.\n",
      "  result_5_4=pd.read_sql_query(query_5_4, connection)\n"
     ]
    },
    {
     "data": {
      "text/html": [
       "<div>\n",
       "<style scoped>\n",
       "    .dataframe tbody tr th:only-of-type {\n",
       "        vertical-align: middle;\n",
       "    }\n",
       "\n",
       "    .dataframe tbody tr th {\n",
       "        vertical-align: top;\n",
       "    }\n",
       "\n",
       "    .dataframe thead th {\n",
       "        text-align: right;\n",
       "    }\n",
       "</style>\n",
       "<table border=\"1\" class=\"dataframe\">\n",
       "  <thead>\n",
       "    <tr style=\"text-align: right;\">\n",
       "      <th></th>\n",
       "      <th>count</th>\n",
       "    </tr>\n",
       "  </thead>\n",
       "  <tbody>\n",
       "    <tr>\n",
       "      <th>0</th>\n",
       "      <td>8419</td>\n",
       "    </tr>\n",
       "  </tbody>\n",
       "</table>\n",
       "</div>"
      ],
      "text/plain": [
       "   count\n",
       "0   8419"
      ]
     },
     "execution_count": 629,
     "metadata": {},
     "output_type": "execute_result"
    }
   ],
   "source": [
    "# результат \n",
    "result_5_4=pd.read_sql_query(query_5_4, connection)\n",
    "result_5_4"
   ]
  },
  {
   "cell_type": "markdown",
   "id": "0112af31-f6b0-4e3b-82ab-71296e752e5e",
   "metadata": {
    "id": "0112af31-f6b0-4e3b-82ab-71296e752e5e"
   },
   "source": [
    "5. Напишите запрос, чтобы узнать название компании, находящейся на третьем месте в алфавитном списке (по названию) компаний, у которых указано четыре сферы деятельности. "
   ]
  },
  {
   "cell_type": "code",
   "execution_count": 631,
   "id": "973b0cfc-a972-470a-8b4a-68744ef220c4",
   "metadata": {
    "id": "973b0cfc-a972-470a-8b4a-68744ef220c4"
   },
   "outputs": [],
   "source": [
    "# текст запроса\n",
    "query_5_5 = '''\n",
    "SELECT e.name, COUNT(ei.industry_id)\n",
    "FROM employers e\n",
    "JOIN employers_industries ei ON ei.employer_id=e.id\n",
    "GROUP BY 1 \n",
    "HAVING COUNT(ei.industry_id)=4\n",
    "ORDER BY 1 ASC\n",
    "\n",
    "'''"
   ]
  },
  {
   "cell_type": "code",
   "execution_count": 632,
   "id": "xsPtpp8EsaED",
   "metadata": {
    "id": "xsPtpp8EsaED"
   },
   "outputs": [
    {
     "name": "stderr",
     "output_type": "stream",
     "text": [
      "C:\\Users\\UserPC\\AppData\\Local\\Temp\\ipykernel_14936\\3150796339.py:2: UserWarning: pandas only supports SQLAlchemy connectable (engine/connection) or database string URI or sqlite3 DBAPI2 connection. Other DBAPI2 objects are not tested. Please consider using SQLAlchemy.\n",
      "  result_5_5=pd.read_sql_query(query_5_5, connection)\n"
     ]
    },
    {
     "data": {
      "text/html": [
       "<div>\n",
       "<style scoped>\n",
       "    .dataframe tbody tr th:only-of-type {\n",
       "        vertical-align: middle;\n",
       "    }\n",
       "\n",
       "    .dataframe tbody tr th {\n",
       "        vertical-align: top;\n",
       "    }\n",
       "\n",
       "    .dataframe thead th {\n",
       "        text-align: right;\n",
       "    }\n",
       "</style>\n",
       "<table border=\"1\" class=\"dataframe\">\n",
       "  <thead>\n",
       "    <tr style=\"text-align: right;\">\n",
       "      <th></th>\n",
       "      <th>name</th>\n",
       "      <th>count</th>\n",
       "    </tr>\n",
       "  </thead>\n",
       "  <tbody>\n",
       "    <tr>\n",
       "      <th>0</th>\n",
       "      <td>101 Интернет</td>\n",
       "      <td>4</td>\n",
       "    </tr>\n",
       "    <tr>\n",
       "      <th>1</th>\n",
       "      <td>21vek.by</td>\n",
       "      <td>4</td>\n",
       "    </tr>\n",
       "    <tr>\n",
       "      <th>2</th>\n",
       "      <td>2ГИС</td>\n",
       "      <td>4</td>\n",
       "    </tr>\n",
       "    <tr>\n",
       "      <th>3</th>\n",
       "      <td>2К</td>\n",
       "      <td>4</td>\n",
       "    </tr>\n",
       "    <tr>\n",
       "      <th>4</th>\n",
       "      <td>4 пикселя +</td>\n",
       "      <td>4</td>\n",
       "    </tr>\n",
       "    <tr>\n",
       "      <th>...</th>\n",
       "      <td>...</td>\n",
       "      <td>...</td>\n",
       "    </tr>\n",
       "    <tr>\n",
       "      <th>1131</th>\n",
       "      <td>ЮРИОН</td>\n",
       "      <td>4</td>\n",
       "    </tr>\n",
       "    <tr>\n",
       "      <th>1132</th>\n",
       "      <td>ЮТИП Технологии</td>\n",
       "      <td>4</td>\n",
       "    </tr>\n",
       "    <tr>\n",
       "      <th>1133</th>\n",
       "      <td>ЯКласс</td>\n",
       "      <td>4</td>\n",
       "    </tr>\n",
       "    <tr>\n",
       "      <th>1134</th>\n",
       "      <td>ЯрНео</td>\n",
       "      <td>4</td>\n",
       "    </tr>\n",
       "    <tr>\n",
       "      <th>1135</th>\n",
       "      <td>Яшин&amp;Партнёры</td>\n",
       "      <td>4</td>\n",
       "    </tr>\n",
       "  </tbody>\n",
       "</table>\n",
       "<p>1136 rows × 2 columns</p>\n",
       "</div>"
      ],
      "text/plain": [
       "                 name  count\n",
       "0        101 Интернет      4\n",
       "1            21vek.by      4\n",
       "2                2ГИС      4\n",
       "3                  2К      4\n",
       "4         4 пикселя +      4\n",
       "...               ...    ...\n",
       "1131            ЮРИОН      4\n",
       "1132  ЮТИП Технологии      4\n",
       "1133           ЯКласс      4\n",
       "1134            ЯрНео      4\n",
       "1135    Яшин&Партнёры      4\n",
       "\n",
       "[1136 rows x 2 columns]"
      ]
     },
     "execution_count": 632,
     "metadata": {},
     "output_type": "execute_result"
    }
   ],
   "source": [
    "# результат запроса\n",
    "result_5_5=pd.read_sql_query(query_5_5, connection)\n",
    "result_5_5"
   ]
  },
  {
   "cell_type": "markdown",
   "id": "3bfcfdaf-755d-4d2b-8ed8-326201dc07ab",
   "metadata": {
    "id": "3bfcfdaf-755d-4d2b-8ed8-326201dc07ab"
   },
   "source": [
    "6. С помощью запроса выясните, у какого количества работодателей в качестве сферы деятельности указана Разработка программного обеспечения.\n"
   ]
  },
  {
   "cell_type": "code",
   "execution_count": 634,
   "id": "ad3f270f-2991-47eb-929b-e8f88a55b0d1",
   "metadata": {
    "id": "ad3f270f-2991-47eb-929b-e8f88a55b0d1"
   },
   "outputs": [],
   "source": [
    "# текст запроса\n",
    "query_5_6 = '''\n",
    "SELECT COUNT(DISTINCT e.id)\n",
    "FROM employers e\n",
    "JOIN employers_industries ei ON ei.employer_id=e.id\n",
    "JOIN industries i ON i.id=ei.industry_id\n",
    "WHERE i.name='Разработка программного обеспечения'\n",
    "'''"
   ]
  },
  {
   "cell_type": "code",
   "execution_count": 635,
   "id": "H72qxWM0shPR",
   "metadata": {
    "id": "H72qxWM0shPR"
   },
   "outputs": [
    {
     "name": "stderr",
     "output_type": "stream",
     "text": [
      "C:\\Users\\UserPC\\AppData\\Local\\Temp\\ipykernel_14936\\4172361763.py:2: UserWarning: pandas only supports SQLAlchemy connectable (engine/connection) or database string URI or sqlite3 DBAPI2 connection. Other DBAPI2 objects are not tested. Please consider using SQLAlchemy.\n",
      "  result_5_6=pd.read_sql_query(query_5_6, connection)\n"
     ]
    },
    {
     "data": {
      "text/html": [
       "<div>\n",
       "<style scoped>\n",
       "    .dataframe tbody tr th:only-of-type {\n",
       "        vertical-align: middle;\n",
       "    }\n",
       "\n",
       "    .dataframe tbody tr th {\n",
       "        vertical-align: top;\n",
       "    }\n",
       "\n",
       "    .dataframe thead th {\n",
       "        text-align: right;\n",
       "    }\n",
       "</style>\n",
       "<table border=\"1\" class=\"dataframe\">\n",
       "  <thead>\n",
       "    <tr style=\"text-align: right;\">\n",
       "      <th></th>\n",
       "      <th>count</th>\n",
       "    </tr>\n",
       "  </thead>\n",
       "  <tbody>\n",
       "    <tr>\n",
       "      <th>0</th>\n",
       "      <td>3553</td>\n",
       "    </tr>\n",
       "  </tbody>\n",
       "</table>\n",
       "</div>"
      ],
      "text/plain": [
       "   count\n",
       "0   3553"
      ]
     },
     "execution_count": 635,
     "metadata": {},
     "output_type": "execute_result"
    }
   ],
   "source": [
    "# результат запроса\n",
    "result_5_6=pd.read_sql_query(query_5_6, connection)\n",
    "result_5_6"
   ]
  },
  {
   "cell_type": "markdown",
   "id": "7b02bb86-0546-40fb-94a4-242f050a5c57",
   "metadata": {
    "id": "7b02bb86-0546-40fb-94a4-242f050a5c57"
   },
   "source": [
    "7. Для компании «Яндекс» выведите список регионов-миллионников, в которых представлены вакансии компании, вместе с количеством вакансий в этих регионах. Также добавьте строку Total с общим количеством вакансий компании. Результат отсортируйте по возрастанию количества.\n",
    "\n",
    "Список городов-милионников надо взять [отсюда](https://ru.wikipedia.org/wiki/%D0%93%D0%BE%D1%80%D0%BE%D0%B4%D0%B0-%D0%BC%D0%B8%D0%BB%D0%BB%D0%B8%D0%BE%D0%BD%D0%B5%D1%80%D1%8B_%D0%A0%D0%BE%D1%81%D1%81%D0%B8%D0%B8). \n",
    "\n",
    "Если возникнут трудности с этим задание посмотрите материалы модуля  PYTHON-17. Как получать данные из веб-источников и API. "
   ]
  },
  {
   "cell_type": "code",
   "execution_count": 637,
   "id": "a509221b-7a43-4d56-aef3-6cc636162091",
   "metadata": {},
   "outputs": [
    {
     "name": "stdout",
     "output_type": "stream",
     "text": [
      "Requirement already satisfied: requests in c:\\users\\userpc\\anaconda3\\lib\\site-packages (2.32.2)\n",
      "Requirement already satisfied: beautifulsoup4 in c:\\users\\userpc\\anaconda3\\lib\\site-packages (4.12.3)\n",
      "Requirement already satisfied: charset-normalizer<4,>=2 in c:\\users\\userpc\\anaconda3\\lib\\site-packages (from requests) (2.0.4)\n",
      "Requirement already satisfied: idna<4,>=2.5 in c:\\users\\userpc\\anaconda3\\lib\\site-packages (from requests) (3.7)\n",
      "Requirement already satisfied: urllib3<3,>=1.21.1 in c:\\users\\userpc\\anaconda3\\lib\\site-packages (from requests) (2.2.2)\n",
      "Requirement already satisfied: certifi>=2017.4.17 in c:\\users\\userpc\\anaconda3\\lib\\site-packages (from requests) (2024.7.4)\n",
      "Requirement already satisfied: soupsieve>1.2 in c:\\users\\userpc\\anaconda3\\lib\\site-packages (from beautifulsoup4) (2.5)\n",
      "Note: you may need to restart the kernel to use updated packages.\n"
     ]
    }
   ],
   "source": [
    "pip install requests beautifulsoup4\n"
   ]
  },
  {
   "cell_type": "code",
   "execution_count": 638,
   "id": "5a0e32a4-e68a-4365-8a39-2fe24c542c36",
   "metadata": {
    "id": "5a0e32a4-e68a-4365-8a39-2fe24c542c36"
   },
   "outputs": [],
   "source": [
    "# текст запроса\n",
    "import requests\n",
    "from bs4 import BeautifulSoup\n",
    "\n",
    "url='https://ru.wikipedia.org/wiki/Города-миллионеры_России'\n",
    "response=requests.get(url)\n",
    "page=BeautifulSoup(response.text,'html.parser')\n",
    "\n",
    "# Extract city names\n",
    "cities_here = page.find('table', class_=\"standard\").find_all('a', title=True)\n",
    "cities = [city['title'] for city in cities_here]\n",
    "\n",
    "# Convert list of cities to SQL-friendly format\n",
    "cities_sql = ', '.join([f\"'{city}'\" for city in cities])\n"
   ]
  },
  {
   "cell_type": "code",
   "execution_count": 639,
   "id": "ed02228d-95e0-4f72-9641-aa3cde8cb2b2",
   "metadata": {},
   "outputs": [],
   "source": [
    "query_5_7 = f'''\n",
    "WITH city_vacancies AS (\n",
    "    SELECT a.name, COUNT(v.id) AS cnt \n",
    "    FROM areas a\n",
    "    JOIN vacancies v ON v.area_id = a.id\n",
    "    JOIN employers e ON e.id = v.employer_id\n",
    "    WHERE e.name = 'Яндекс'\n",
    "      AND a.name IN ({cities_sql})\n",
    "    GROUP BY a.name\n",
    "    ORDER BY 2 ASC\n",
    ")\n",
    "SELECT * FROM city_vacancies\n",
    "\n",
    "UNION ALL\n",
    "\n",
    "SELECT 'Total', SUM(cnt)\n",
    "FROM city_vacancies;\n",
    "'''\n",
    "\n",
    "# Execute the SQL query\n"
   ]
  },
  {
   "cell_type": "code",
   "execution_count": 640,
   "id": "ttPhiO1rsvPq",
   "metadata": {
    "id": "ttPhiO1rsvPq"
   },
   "outputs": [
    {
     "name": "stderr",
     "output_type": "stream",
     "text": [
      "C:\\Users\\UserPC\\AppData\\Local\\Temp\\ipykernel_14936\\786645949.py:2: UserWarning: pandas only supports SQLAlchemy connectable (engine/connection) or database string URI or sqlite3 DBAPI2 connection. Other DBAPI2 objects are not tested. Please consider using SQLAlchemy.\n",
      "  result_5_7 = pd.read_sql_query(query_5_7, connection)\n"
     ]
    },
    {
     "data": {
      "text/html": [
       "<div>\n",
       "<style scoped>\n",
       "    .dataframe tbody tr th:only-of-type {\n",
       "        vertical-align: middle;\n",
       "    }\n",
       "\n",
       "    .dataframe tbody tr th {\n",
       "        vertical-align: top;\n",
       "    }\n",
       "\n",
       "    .dataframe thead th {\n",
       "        text-align: right;\n",
       "    }\n",
       "</style>\n",
       "<table border=\"1\" class=\"dataframe\">\n",
       "  <thead>\n",
       "    <tr style=\"text-align: right;\">\n",
       "      <th></th>\n",
       "      <th>name</th>\n",
       "      <th>cnt</th>\n",
       "    </tr>\n",
       "  </thead>\n",
       "  <tbody>\n",
       "    <tr>\n",
       "      <th>0</th>\n",
       "      <td>Омск</td>\n",
       "      <td>21.0</td>\n",
       "    </tr>\n",
       "    <tr>\n",
       "      <th>1</th>\n",
       "      <td>Челябинск</td>\n",
       "      <td>22.0</td>\n",
       "    </tr>\n",
       "    <tr>\n",
       "      <th>2</th>\n",
       "      <td>Красноярск</td>\n",
       "      <td>23.0</td>\n",
       "    </tr>\n",
       "    <tr>\n",
       "      <th>3</th>\n",
       "      <td>Волгоград</td>\n",
       "      <td>24.0</td>\n",
       "    </tr>\n",
       "    <tr>\n",
       "      <th>4</th>\n",
       "      <td>Пермь</td>\n",
       "      <td>25.0</td>\n",
       "    </tr>\n",
       "    <tr>\n",
       "      <th>5</th>\n",
       "      <td>Казань</td>\n",
       "      <td>25.0</td>\n",
       "    </tr>\n",
       "    <tr>\n",
       "      <th>6</th>\n",
       "      <td>Ростов-на-Дону</td>\n",
       "      <td>25.0</td>\n",
       "    </tr>\n",
       "    <tr>\n",
       "      <th>7</th>\n",
       "      <td>Уфа</td>\n",
       "      <td>26.0</td>\n",
       "    </tr>\n",
       "    <tr>\n",
       "      <th>8</th>\n",
       "      <td>Самара</td>\n",
       "      <td>26.0</td>\n",
       "    </tr>\n",
       "    <tr>\n",
       "      <th>9</th>\n",
       "      <td>Краснодар</td>\n",
       "      <td>30.0</td>\n",
       "    </tr>\n",
       "    <tr>\n",
       "      <th>10</th>\n",
       "      <td>Воронеж</td>\n",
       "      <td>32.0</td>\n",
       "    </tr>\n",
       "    <tr>\n",
       "      <th>11</th>\n",
       "      <td>Новосибирск</td>\n",
       "      <td>35.0</td>\n",
       "    </tr>\n",
       "    <tr>\n",
       "      <th>12</th>\n",
       "      <td>Нижний Новгород</td>\n",
       "      <td>36.0</td>\n",
       "    </tr>\n",
       "    <tr>\n",
       "      <th>13</th>\n",
       "      <td>Екатеринбург</td>\n",
       "      <td>39.0</td>\n",
       "    </tr>\n",
       "    <tr>\n",
       "      <th>14</th>\n",
       "      <td>Санкт-Петербург</td>\n",
       "      <td>42.0</td>\n",
       "    </tr>\n",
       "    <tr>\n",
       "      <th>15</th>\n",
       "      <td>Москва</td>\n",
       "      <td>54.0</td>\n",
       "    </tr>\n",
       "    <tr>\n",
       "      <th>16</th>\n",
       "      <td>Total</td>\n",
       "      <td>485.0</td>\n",
       "    </tr>\n",
       "  </tbody>\n",
       "</table>\n",
       "</div>"
      ],
      "text/plain": [
       "               name    cnt\n",
       "0              Омск   21.0\n",
       "1         Челябинск   22.0\n",
       "2        Красноярск   23.0\n",
       "3         Волгоград   24.0\n",
       "4             Пермь   25.0\n",
       "5            Казань   25.0\n",
       "6    Ростов-на-Дону   25.0\n",
       "7               Уфа   26.0\n",
       "8            Самара   26.0\n",
       "9         Краснодар   30.0\n",
       "10          Воронеж   32.0\n",
       "11      Новосибирск   35.0\n",
       "12  Нижний Новгород   36.0\n",
       "13     Екатеринбург   39.0\n",
       "14  Санкт-Петербург   42.0\n",
       "15           Москва   54.0\n",
       "16            Total  485.0"
      ]
     },
     "execution_count": 640,
     "metadata": {},
     "output_type": "execute_result"
    }
   ],
   "source": [
    "# результат запроса\n",
    "result_5_7 = pd.read_sql_query(query_5_7, connection)\n",
    "result_5_7"
   ]
  },
  {
   "cell_type": "markdown",
   "id": "04966e40-3bc3-4dc8-9ba2-e80580ce3abc",
   "metadata": {
    "id": "04966e40-3bc3-4dc8-9ba2-e80580ce3abc"
   },
   "source": [
    "***"
   ]
  },
  {
   "cell_type": "markdown",
   "id": "2e61d9c3-4963-4712-b400-43955e534c19",
   "metadata": {
    "id": "aGGyER-yt4SR"
   },
   "source": [
    "Россия — это регион с наибольшим количеством работодателей, однако с минимальным числом вакансий.\n",
    "Яндекс — самая географически распространенная компания, с вакансиями в 181 регионе. \n",
    "8419 работодателей, что составляет 36%, не указывают сферу деятельности. \n",
    "3553 работодателя, или 15%, указывают сферу деятельности «Разработка программного обеспечения»."
   ]
  },
  {
   "cell_type": "markdown",
   "id": "b1ef156a-efcb-49ce-bb23-90763e7f35b2",
   "metadata": {
    "id": "b1ef156a-efcb-49ce-bb23-90763e7f35b2",
    "tags": []
   },
   "source": [
    "# Юнит 6. Предметный анализ"
   ]
  },
  {
   "cell_type": "markdown",
   "id": "b9cd50a0-992d-4988-8463-2b2b1c4629b4",
   "metadata": {
    "id": "b9cd50a0-992d-4988-8463-2b2b1c4629b4"
   },
   "source": [
    "1. Сколько вакансий имеет отношение к данным?\n",
    "\n",
    "Считаем, что вакансия имеет отношение к данным, если в её названии содержатся слова 'data' или 'данн'.\n",
    "\n",
    "*Подсказка: Обратите внимание, что названия вакансий могут быть написаны в любом регистре.* \n"
   ]
  },
  {
   "cell_type": "code",
   "execution_count": 645,
   "id": "54ab0e50-c0f1-47cc-a54b-bc5c8bc363f9",
   "metadata": {
    "id": "54ab0e50-c0f1-47cc-a54b-bc5c8bc363f9"
   },
   "outputs": [],
   "source": [
    "# текст запроса\n",
    "query_6_1 = '''\n",
    "SELECT COUNT(*)\n",
    "FROM vacancies v \n",
    "WHERE v.name ILIKE '%data%' OR v.name ILIKE '%данн%'\n",
    "'''"
   ]
  },
  {
   "cell_type": "code",
   "execution_count": 646,
   "id": "9F1meAqsuUjd",
   "metadata": {
    "id": "9F1meAqsuUjd"
   },
   "outputs": [
    {
     "name": "stderr",
     "output_type": "stream",
     "text": [
      "C:\\Users\\UserPC\\AppData\\Local\\Temp\\ipykernel_14936\\1424470524.py:2: UserWarning: pandas only supports SQLAlchemy connectable (engine/connection) or database string URI or sqlite3 DBAPI2 connection. Other DBAPI2 objects are not tested. Please consider using SQLAlchemy.\n",
      "  result_6_1=pd.read_sql_query(query_6_1, connection)\n"
     ]
    },
    {
     "data": {
      "text/html": [
       "<div>\n",
       "<style scoped>\n",
       "    .dataframe tbody tr th:only-of-type {\n",
       "        vertical-align: middle;\n",
       "    }\n",
       "\n",
       "    .dataframe tbody tr th {\n",
       "        vertical-align: top;\n",
       "    }\n",
       "\n",
       "    .dataframe thead th {\n",
       "        text-align: right;\n",
       "    }\n",
       "</style>\n",
       "<table border=\"1\" class=\"dataframe\">\n",
       "  <thead>\n",
       "    <tr style=\"text-align: right;\">\n",
       "      <th></th>\n",
       "      <th>count</th>\n",
       "    </tr>\n",
       "  </thead>\n",
       "  <tbody>\n",
       "    <tr>\n",
       "      <th>0</th>\n",
       "      <td>1771</td>\n",
       "    </tr>\n",
       "  </tbody>\n",
       "</table>\n",
       "</div>"
      ],
      "text/plain": [
       "   count\n",
       "0   1771"
      ]
     },
     "execution_count": 646,
     "metadata": {},
     "output_type": "execute_result"
    }
   ],
   "source": [
    "# результат запроса\n",
    "result_6_1=pd.read_sql_query(query_6_1, connection)\n",
    "result_6_1"
   ]
  },
  {
   "cell_type": "markdown",
   "id": "4dea20cb-a36b-474a-a0b9-e08e8e3857a5",
   "metadata": {
    "id": "4dea20cb-a36b-474a-a0b9-e08e8e3857a5"
   },
   "source": [
    "2. Сколько есть подходящих вакансий для начинающего дата-сайентиста? \n",
    "Будем считать вакансиями для дата-сайентистов такие, в названии которых есть хотя бы одно из следующих сочетаний:\n",
    "* 'data scientist'\n",
    "* 'data science'\n",
    "* 'исследователь данных'\n",
    "* 'ML' (здесь не нужно брать вакансии по HTML)\n",
    "* 'machine learning'\n",
    "* 'машинн%обучен%'\n",
    "\n",
    "** В следующих заданиях мы продолжим работать с вакансиями по этому условию.*\n",
    "\n",
    "Считаем вакансиями для специалистов уровня Junior следующие:\n",
    "* в названии есть слово 'junior' *или*\n",
    "* требуемый опыт — Нет опыта *или*\n",
    "* тип трудоустройства — Стажировка.\n",
    " "
   ]
  },
  {
   "cell_type": "code",
   "execution_count": 648,
   "id": "9c61b3c0-bb66-46c9-ae1e-81d3f5752b4a",
   "metadata": {
    "id": "9c61b3c0-bb66-46c9-ae1e-81d3f5752b4a"
   },
   "outputs": [],
   "source": [
    "# текст запроса\n",
    "query_6_2 = '''\n",
    "SELECT count(DISTINCT v.id) AS cnt\n",
    "FROM vacancies v\n",
    "WHERE (v.name ILIKE '%data scientist%'\n",
    "OR v.name ILIKE '%data science%'\n",
    "OR v.name ILIKE '%исследователь данных%'\n",
    "OR (v.name ILIKE '%ML%' AND v.name NOT ILIKE '%HTML%')\n",
    "OR v.name ILIKE 'machine learning'\n",
    "OR v.name ILIKE '%машинн%обучен%')\n",
    "AND (v.name ILIKE '%junior%'\n",
    "OR v.experience ILIKE '%Нет опыта%'\n",
    "OR v.employment ILIKE '%Стажировка%')\n",
    "'''"
   ]
  },
  {
   "cell_type": "code",
   "execution_count": 649,
   "id": "ZNM-LLYuu1dj",
   "metadata": {
    "id": "ZNM-LLYuu1dj"
   },
   "outputs": [
    {
     "name": "stderr",
     "output_type": "stream",
     "text": [
      "C:\\Users\\UserPC\\AppData\\Local\\Temp\\ipykernel_14936\\2011958607.py:2: UserWarning: pandas only supports SQLAlchemy connectable (engine/connection) or database string URI or sqlite3 DBAPI2 connection. Other DBAPI2 objects are not tested. Please consider using SQLAlchemy.\n",
      "  result_6_2=pd.read_sql_query(query_6_2, connection)\n"
     ]
    },
    {
     "data": {
      "text/html": [
       "<div>\n",
       "<style scoped>\n",
       "    .dataframe tbody tr th:only-of-type {\n",
       "        vertical-align: middle;\n",
       "    }\n",
       "\n",
       "    .dataframe tbody tr th {\n",
       "        vertical-align: top;\n",
       "    }\n",
       "\n",
       "    .dataframe thead th {\n",
       "        text-align: right;\n",
       "    }\n",
       "</style>\n",
       "<table border=\"1\" class=\"dataframe\">\n",
       "  <thead>\n",
       "    <tr style=\"text-align: right;\">\n",
       "      <th></th>\n",
       "      <th>cnt</th>\n",
       "    </tr>\n",
       "  </thead>\n",
       "  <tbody>\n",
       "    <tr>\n",
       "      <th>0</th>\n",
       "      <td>51</td>\n",
       "    </tr>\n",
       "  </tbody>\n",
       "</table>\n",
       "</div>"
      ],
      "text/plain": [
       "   cnt\n",
       "0   51"
      ]
     },
     "execution_count": 649,
     "metadata": {},
     "output_type": "execute_result"
    }
   ],
   "source": [
    "# результат запроса\n",
    "result_6_2=pd.read_sql_query(query_6_2, connection)\n",
    "result_6_2"
   ]
  },
  {
   "cell_type": "markdown",
   "id": "eedceb80-c5ca-480e-b27a-278dfb8b4438",
   "metadata": {
    "id": "eedceb80-c5ca-480e-b27a-278dfb8b4438"
   },
   "source": [
    "3. Сколько есть вакансий для DS, в которых в качестве ключевого навыка указан SQL или postgres?\n",
    "\n",
    "** Критерии для отнесения вакансии к DS указаны в предыдущем задании.*"
   ]
  },
  {
   "cell_type": "code",
   "execution_count": 651,
   "id": "22e0149b-f921-47cf-b157-9a8f82d59629",
   "metadata": {
    "id": "69621713-0cc5-4f1b-a1d7-bb144fa6148c"
   },
   "outputs": [],
   "source": [
    "# текст запроса\n",
    "query_6_3 = '''\n",
    "SELECT count(DISTINCT v.id) AS cnt\n",
    "FROM vacancies v\n",
    "WHERE (v.name ILIKE '%data scientist%'\n",
    "OR v.name ILIKE '%data science%'\n",
    "OR v.name ILIKE '%исследователь данных%'\n",
    "OR v.name ILIKE '%machine learning%'\n",
    "OR v.name ILIKE '%машинн%обучен%'\n",
    "OR (v.name ILIKE '%ML%' AND v.name NOT ILIKE '%HTML%'))\n",
    "AND (v.key_skills ILIKE '%sql%'\n",
    "OR v.key_skills ILIKE '%postgres%')\n",
    "'''"
   ]
  },
  {
   "cell_type": "code",
   "execution_count": 652,
   "id": "alA8WEAAvGdf",
   "metadata": {
    "id": "alA8WEAAvGdf"
   },
   "outputs": [
    {
     "name": "stderr",
     "output_type": "stream",
     "text": [
      "C:\\Users\\UserPC\\AppData\\Local\\Temp\\ipykernel_14936\\1621525378.py:2: UserWarning: pandas only supports SQLAlchemy connectable (engine/connection) or database string URI or sqlite3 DBAPI2 connection. Other DBAPI2 objects are not tested. Please consider using SQLAlchemy.\n",
      "  result_6_3=pd.read_sql_query(query_6_3, connection)\n"
     ]
    },
    {
     "data": {
      "text/html": [
       "<div>\n",
       "<style scoped>\n",
       "    .dataframe tbody tr th:only-of-type {\n",
       "        vertical-align: middle;\n",
       "    }\n",
       "\n",
       "    .dataframe tbody tr th {\n",
       "        vertical-align: top;\n",
       "    }\n",
       "\n",
       "    .dataframe thead th {\n",
       "        text-align: right;\n",
       "    }\n",
       "</style>\n",
       "<table border=\"1\" class=\"dataframe\">\n",
       "  <thead>\n",
       "    <tr style=\"text-align: right;\">\n",
       "      <th></th>\n",
       "      <th>cnt</th>\n",
       "    </tr>\n",
       "  </thead>\n",
       "  <tbody>\n",
       "    <tr>\n",
       "      <th>0</th>\n",
       "      <td>229</td>\n",
       "    </tr>\n",
       "  </tbody>\n",
       "</table>\n",
       "</div>"
      ],
      "text/plain": [
       "   cnt\n",
       "0  229"
      ]
     },
     "execution_count": 652,
     "metadata": {},
     "output_type": "execute_result"
    }
   ],
   "source": [
    "# результат запроса\n",
    "result_6_3=pd.read_sql_query(query_6_3, connection)\n",
    "result_6_3"
   ]
  },
  {
   "cell_type": "markdown",
   "id": "1be1e9c6-37cf-4a5f-bfeb-04cab799dc80",
   "metadata": {
    "id": "1be1e9c6-37cf-4a5f-bfeb-04cab799dc80"
   },
   "source": [
    "4. Проверьте, насколько популярен Python в требованиях работодателей к DS.Для этого вычислите количество вакансий, в которых в качестве ключевого навыка указан Python.\n",
    "\n",
    "** Это можно сделать помощью запроса, аналогичного предыдущему.*"
   ]
  },
  {
   "cell_type": "code",
   "execution_count": 654,
   "id": "0036a355-9ccf-4564-8b01-73d8194297e7",
   "metadata": {
    "id": "0036a355-9ccf-4564-8b01-73d8194297e7"
   },
   "outputs": [],
   "source": [
    "# текст запроса\n",
    "query_6_4 = '''\n",
    "SELECT count(DISTINCT v.id) AS cnt\n",
    "FROM vacancies v\n",
    "WHERE (v.name ILIKE '%data scientist%'\n",
    "OR v.name ILIKE '%data science%'\n",
    "OR v.name ILIKE '%исследователь данных%'\n",
    "OR v.name ILIKE '%machine learning%'\n",
    "OR v.name ILIKE '%машинн%обучен%'\n",
    "OR (v.name ILIKE '%ML%' AND v.name NOT ILIKE '%HTML%'))\n",
    "AND (v.key_skills ILIKE '%python%')\n",
    "'''"
   ]
  },
  {
   "cell_type": "code",
   "execution_count": 655,
   "id": "1i-5WyucvQ6v",
   "metadata": {
    "id": "1i-5WyucvQ6v"
   },
   "outputs": [
    {
     "name": "stderr",
     "output_type": "stream",
     "text": [
      "C:\\Users\\UserPC\\AppData\\Local\\Temp\\ipykernel_14936\\1180772487.py:2: UserWarning: pandas only supports SQLAlchemy connectable (engine/connection) or database string URI or sqlite3 DBAPI2 connection. Other DBAPI2 objects are not tested. Please consider using SQLAlchemy.\n",
      "  result_6_4=pd.read_sql_query(query_6_4, connection)\n"
     ]
    },
    {
     "data": {
      "text/html": [
       "<div>\n",
       "<style scoped>\n",
       "    .dataframe tbody tr th:only-of-type {\n",
       "        vertical-align: middle;\n",
       "    }\n",
       "\n",
       "    .dataframe tbody tr th {\n",
       "        vertical-align: top;\n",
       "    }\n",
       "\n",
       "    .dataframe thead th {\n",
       "        text-align: right;\n",
       "    }\n",
       "</style>\n",
       "<table border=\"1\" class=\"dataframe\">\n",
       "  <thead>\n",
       "    <tr style=\"text-align: right;\">\n",
       "      <th></th>\n",
       "      <th>cnt</th>\n",
       "    </tr>\n",
       "  </thead>\n",
       "  <tbody>\n",
       "    <tr>\n",
       "      <th>0</th>\n",
       "      <td>357</td>\n",
       "    </tr>\n",
       "  </tbody>\n",
       "</table>\n",
       "</div>"
      ],
      "text/plain": [
       "   cnt\n",
       "0  357"
      ]
     },
     "execution_count": 655,
     "metadata": {},
     "output_type": "execute_result"
    }
   ],
   "source": [
    "# результат запроса\n",
    "result_6_4=pd.read_sql_query(query_6_4, connection)\n",
    "result_6_4"
   ]
  },
  {
   "cell_type": "markdown",
   "id": "ec3c8db7-fa21-4a41-a994-1af63742a642",
   "metadata": {
    "id": "ec3c8db7-fa21-4a41-a994-1af63742a642"
   },
   "source": [
    "5. Сколько ключевых навыков в среднем указывают в вакансиях для DS?\n",
    "Ответ округлите до двух знаков после точки-разделителя."
   ]
  },
  {
   "cell_type": "code",
   "execution_count": 657,
   "id": "949132bc-d5b6-4611-8218-0b9a504d74f4",
   "metadata": {
    "id": "949132bc-d5b6-4611-8218-0b9a504d74f4"
   },
   "outputs": [],
   "source": [
    "# текст запроса\n",
    "query_6_5 = '''\n",
    "SELECT AVG(skill_count) AS avg_skills\n",
    "FROM (\n",
    "    SELECT LENGTH(v.key_skills) - LENGTH(REPLACE(v.key_skills, CHR(9), '')) + 1 AS skill_count\n",
    "    FROM vacancies v\n",
    "    WHERE (\n",
    "        v.name ILIKE '%data scientist%'\n",
    "        OR v.name ILIKE '%data science%'\n",
    "        OR v.name ILIKE '%исследователь данных%'\n",
    "        OR v.name ILIKE '%machine learning%'\n",
    "        OR v.name ILIKE '%машинн%обучен%'\n",
    "        OR (v.name LIKE '%ML%' AND v.name NOT LIKE '%HTML%')\n",
    "    )\n",
    "\n",
    ") subquery;\n",
    "'''"
   ]
  },
  {
   "cell_type": "code",
   "execution_count": 658,
   "id": "a3V24Tvmviqk",
   "metadata": {
    "id": "a3V24Tvmviqk"
   },
   "outputs": [
    {
     "name": "stderr",
     "output_type": "stream",
     "text": [
      "C:\\Users\\UserPC\\AppData\\Local\\Temp\\ipykernel_14936\\1042119364.py:2: UserWarning: pandas only supports SQLAlchemy connectable (engine/connection) or database string URI or sqlite3 DBAPI2 connection. Other DBAPI2 objects are not tested. Please consider using SQLAlchemy.\n",
      "  result_6_5=pd.read_sql_query(query_6_5, connection)\n"
     ]
    },
    {
     "data": {
      "text/html": [
       "<div>\n",
       "<style scoped>\n",
       "    .dataframe tbody tr th:only-of-type {\n",
       "        vertical-align: middle;\n",
       "    }\n",
       "\n",
       "    .dataframe tbody tr th {\n",
       "        vertical-align: top;\n",
       "    }\n",
       "\n",
       "    .dataframe thead th {\n",
       "        text-align: right;\n",
       "    }\n",
       "</style>\n",
       "<table border=\"1\" class=\"dataframe\">\n",
       "  <thead>\n",
       "    <tr style=\"text-align: right;\">\n",
       "      <th></th>\n",
       "      <th>avg_skills</th>\n",
       "    </tr>\n",
       "  </thead>\n",
       "  <tbody>\n",
       "    <tr>\n",
       "      <th>0</th>\n",
       "      <td>6.406032</td>\n",
       "    </tr>\n",
       "  </tbody>\n",
       "</table>\n",
       "</div>"
      ],
      "text/plain": [
       "   avg_skills\n",
       "0    6.406032"
      ]
     },
     "execution_count": 658,
     "metadata": {},
     "output_type": "execute_result"
    }
   ],
   "source": [
    "# результат запроса\n",
    "result_6_5=pd.read_sql_query(query_6_5, connection)\n",
    "result_6_5"
   ]
  },
  {
   "cell_type": "markdown",
   "id": "1041c17a-ca8f-4543-a0ca-32778914fb00",
   "metadata": {
    "id": "1041c17a-ca8f-4543-a0ca-32778914fb00"
   },
   "source": [
    "6. Напишите запрос, позволяющий вычислить, какую зарплату для DS в **среднем** указывают для каждого типа требуемого опыта (уникальное значение из поля *experience*). \n",
    "\n",
    "При решении задачи примите во внимание следующее:\n",
    "1. Рассматриваем только вакансии, у которых заполнено хотя бы одно из двух полей с зарплатой.\n",
    "2. Если заполнены оба поля с зарплатой, то считаем зарплату по каждой вакансии как сумму двух полей, делённую на 2. Если заполнено только одно из полей, то его и считаем зарплатой по вакансии.\n",
    "3. Если в расчётах участвует null, в результате он тоже даст null (посмотрите, что возвращает запрос select 1 + null). Чтобы избежать этой ситуацию, мы воспользуемся функцией [coalesce](https://postgrespro.ru/docs/postgresql/9.5/functions-conditional#functions-coalesce-nvl-ifnull), которая заменит null на значение, которое мы передадим. Например, посмотрите, что возвращает запрос `select 1 + coalesce(null, 0)`\n",
    "\n",
    "Выясните, на какую зарплату в среднем может рассчитывать дата-сайентист с опытом работы от 3 до 6 лет. Результат округлите до целого числа. "
   ]
  },
  {
   "cell_type": "code",
   "execution_count": 660,
   "id": "6a743d39-5204-48d3-8271-b9f88e68d40e",
   "metadata": {
    "id": "6a743d39-5204-48d3-8271-b9f88e68d40e"
   },
   "outputs": [],
   "source": [
    "# текст запроса\n",
    "query_6_6 = '''\n",
    "SELECT AVG(\n",
    "           CASE\n",
    "               WHEN salary_from IS NOT NULL AND salary_to IS NOT NULL THEN (salary_from + salary_to) / 2\n",
    "               WHEN salary_from IS NOT NULL THEN salary_from\n",
    "               WHEN salary_to IS NOT NULL THEN salary_to\n",
    "           END\n",
    "       ) AS avg_salary\n",
    "FROM vacancies v\n",
    "WHERE (\n",
    "    (v.name ILIKE '%data scientist%'\n",
    "    OR v.name ILIKE '%data science%'\n",
    "    OR v.name ILIKE '%исследователь данных%'\n",
    "    OR v.name ILIKE '%machine learning%'\n",
    "    OR v.name ILIKE '%машинн%обучен%'\n",
    "    OR (v.name LIKE '%ML%' AND v.name NOT LIKE '%HTML%'))\n",
    "    AND  (v.experience='От 3 до 6 лет')\n",
    "    \n",
    ")\n",
    "AND (salary_from IS NOT NULL OR salary_to IS NOT NULL);\n",
    "\n",
    "'''"
   ]
  },
  {
   "cell_type": "code",
   "execution_count": 661,
   "id": "aRIJ0mZEwU1_",
   "metadata": {
    "id": "aRIJ0mZEwU1_"
   },
   "outputs": [
    {
     "name": "stderr",
     "output_type": "stream",
     "text": [
      "C:\\Users\\UserPC\\AppData\\Local\\Temp\\ipykernel_14936\\648168112.py:2: UserWarning: pandas only supports SQLAlchemy connectable (engine/connection) or database string URI or sqlite3 DBAPI2 connection. Other DBAPI2 objects are not tested. Please consider using SQLAlchemy.\n",
      "  result_6_6=pd.read_sql_query(query_6_6, connection)\n"
     ]
    },
    {
     "data": {
      "text/html": [
       "<div>\n",
       "<style scoped>\n",
       "    .dataframe tbody tr th:only-of-type {\n",
       "        vertical-align: middle;\n",
       "    }\n",
       "\n",
       "    .dataframe tbody tr th {\n",
       "        vertical-align: top;\n",
       "    }\n",
       "\n",
       "    .dataframe thead th {\n",
       "        text-align: right;\n",
       "    }\n",
       "</style>\n",
       "<table border=\"1\" class=\"dataframe\">\n",
       "  <thead>\n",
       "    <tr style=\"text-align: right;\">\n",
       "      <th></th>\n",
       "      <th>avg_salary</th>\n",
       "    </tr>\n",
       "  </thead>\n",
       "  <tbody>\n",
       "    <tr>\n",
       "      <th>0</th>\n",
       "      <td>243114.666667</td>\n",
       "    </tr>\n",
       "  </tbody>\n",
       "</table>\n",
       "</div>"
      ],
      "text/plain": [
       "      avg_salary\n",
       "0  243114.666667"
      ]
     },
     "execution_count": 661,
     "metadata": {},
     "output_type": "execute_result"
    }
   ],
   "source": [
    "# результат запроса\n",
    "result_6_6=pd.read_sql_query(query_6_6, connection)\n",
    "result_6_6"
   ]
  },
  {
   "cell_type": "markdown",
   "id": "6a7892b4-4113-4746-adce-18aa2844f18e",
   "metadata": {
    "id": "6a7892b4-4113-4746-adce-18aa2844f18e"
   },
   "source": [
    "***"
   ]
  },
  {
   "cell_type": "markdown",
   "id": "58f772a5-2104-4cb0-893b-fc4d5f8ddef3",
   "metadata": {
    "id": "UjLWUptVwY1o"
   },
   "source": [
    "Из всех вакансий 1771, что составляет 3,6%, относятся к сфере данных. \n",
    "Среди них 51 вакансия (2,9%) предназначена для специалистов уровня junior. SQL требуется в 12,3% вакансий, связанных с данными, а Python — в 20,2%. \n",
    "Анализ показал, что специалисты по данным с опытом от 3 до 6 лет зарабатывают на 37% больше, \n",
    "чем в среднем среди всех специалистов в сфере данных (243 тыс. рублей против 177 тыс. рублей). \n",
    "По сравнению с общими средними зарплатами по всем вакансиям их зарплаты почти в три раза выше (243 тыс. рублей против 84 тыс. рублей)."
   ]
  },
  {
   "cell_type": "markdown",
   "id": "c0ED6fh7wiBT",
   "metadata": {
    "id": "c0ED6fh7wiBT"
   },
   "source": [
    "# Общий вывод по проекту\n",
    "Вакансии представлены в более чем тысяче регионов и охватывают почти 300 различных сфер, причем на каждую компанию в среднем приходится по две вакансии. Вакансии чаще всего размещаются в столицах стран СНГ или крупных городах, а почти в половине из них указаны зарплатные предложения. Полный рабочий день и удалённая работа с полной занятостью остаются наиболее востребованными форматами.\n",
    "\n",
    "Наибольший спрос наблюдается на специалистов с опытом работы от 1 до 3 лет. Россия лидирует по количеству работодателей, однако предлагает минимальное количество вакансий. Яндекс является самой географически разнообразной компанией, с вакансиями в 181 регионе. При этом значительная часть работодателей (36%) не указывает сферу деятельности, а 15% относятся к разработке программного обеспечения.\n",
    "\n",
    "Сфера данных составляет 3,6% от всех вакансий, из которых 2,9% ориентированы на специалистов уровня junior. SQL и Python остаются важными навыками: SQL упоминается в 12,3% вакансий по данным, а Python — в 20,2%. Специалисты по данным с опытом от 3 до 6 лет зарабатывают на 37% больше, чем в среднем по рынку данных (243 тыс. рублей против 177 тыс. рублей), что почти в три раза выше средней зарплаты по всем вакансиям (243 тыс. рублей против 84 тыс. рублей)."
   ]
  },
  {
   "cell_type": "code",
   "execution_count": 665,
   "id": "h9B3BL-wwj18",
   "metadata": {
    "id": "h9B3BL-wwj18"
   },
   "outputs": [],
   "source": [
    "# Средняя зарплата базы вакансий\n",
    "query_7_1 = '''\n",
    "SELECT AVG(\n",
    "           CASE\n",
    "               WHEN salary_from IS NOT NULL AND salary_to IS NOT NULL THEN (salary_from + salary_to) / 2\n",
    "               WHEN salary_from IS NOT NULL THEN salary_from\n",
    "               WHEN salary_to IS NOT NULL THEN salary_to\n",
    "           END\n",
    "       ) AS avg_salary\n",
    "FROM vacancies v\n",
    "WHERE  (salary_from IS NOT NULL OR salary_to IS NOT NULL);\n",
    "'''\n"
   ]
  },
  {
   "cell_type": "code",
   "execution_count": 666,
   "id": "f6e59acc-403e-405b-a94a-17687ff1814b",
   "metadata": {},
   "outputs": [
    {
     "name": "stderr",
     "output_type": "stream",
     "text": [
      "C:\\Users\\UserPC\\AppData\\Local\\Temp\\ipykernel_14936\\1541841109.py:1: UserWarning: pandas only supports SQLAlchemy connectable (engine/connection) or database string URI or sqlite3 DBAPI2 connection. Other DBAPI2 objects are not tested. Please consider using SQLAlchemy.\n",
      "  result_7_1=pd.read_sql_query(query_7_1, connection)\n"
     ]
    },
    {
     "data": {
      "text/html": [
       "<div>\n",
       "<style scoped>\n",
       "    .dataframe tbody tr th:only-of-type {\n",
       "        vertical-align: middle;\n",
       "    }\n",
       "\n",
       "    .dataframe tbody tr th {\n",
       "        vertical-align: top;\n",
       "    }\n",
       "\n",
       "    .dataframe thead th {\n",
       "        text-align: right;\n",
       "    }\n",
       "</style>\n",
       "<table border=\"1\" class=\"dataframe\">\n",
       "  <thead>\n",
       "    <tr style=\"text-align: right;\">\n",
       "      <th></th>\n",
       "      <th>avg_salary</th>\n",
       "    </tr>\n",
       "  </thead>\n",
       "  <tbody>\n",
       "    <tr>\n",
       "      <th>0</th>\n",
       "      <td>84314.865326</td>\n",
       "    </tr>\n",
       "  </tbody>\n",
       "</table>\n",
       "</div>"
      ],
      "text/plain": [
       "     avg_salary\n",
       "0  84314.865326"
      ]
     },
     "execution_count": 666,
     "metadata": {},
     "output_type": "execute_result"
    }
   ],
   "source": [
    "result_7_1=pd.read_sql_query(query_7_1, connection)\n",
    "result_7_1"
   ]
  },
  {
   "cell_type": "code",
   "execution_count": 667,
   "id": "23db7872-e2fa-4b2a-9530-239b4f4bb43b",
   "metadata": {},
   "outputs": [],
   "source": [
    "# Средняя зарплата специалистов по данным\n",
    "query_7_2 = '''\n",
    "SELECT AVG(\n",
    "           CASE\n",
    "               WHEN salary_from IS NOT NULL AND salary_to IS NOT NULL THEN (salary_from + salary_to) / 2\n",
    "               WHEN salary_from IS NOT NULL THEN salary_from\n",
    "               WHEN salary_to IS NOT NULL THEN salary_to\n",
    "           END\n",
    "       ) AS avg_salary\n",
    "FROM vacancies v\n",
    "WHERE (\n",
    "    (v.name ILIKE '%data scientist%'\n",
    "    OR v.name ILIKE '%data science%'\n",
    "    OR v.name ILIKE '%исследователь данных%'\n",
    "    OR v.name ILIKE '%machine learning%'\n",
    "    OR v.name ILIKE '%машинн%обучен%'\n",
    "    OR (v.name LIKE '%ML%' AND v.name NOT LIKE '%HTML%'))\n",
    "    \n",
    "    \n",
    ")\n",
    "AND (salary_from IS NOT NULL OR salary_to IS NOT NULL);\n",
    "'''\n"
   ]
  },
  {
   "cell_type": "code",
   "execution_count": 668,
   "id": "01020774-b6a6-422f-ab9d-ad21853e472f",
   "metadata": {},
   "outputs": [
    {
     "name": "stderr",
     "output_type": "stream",
     "text": [
      "C:\\Users\\UserPC\\AppData\\Local\\Temp\\ipykernel_14936\\1772489806.py:1: UserWarning: pandas only supports SQLAlchemy connectable (engine/connection) or database string URI or sqlite3 DBAPI2 connection. Other DBAPI2 objects are not tested. Please consider using SQLAlchemy.\n",
      "  result_7_2=pd.read_sql_query(query_7_2, connection)\n"
     ]
    },
    {
     "data": {
      "text/html": [
       "<div>\n",
       "<style scoped>\n",
       "    .dataframe tbody tr th:only-of-type {\n",
       "        vertical-align: middle;\n",
       "    }\n",
       "\n",
       "    .dataframe tbody tr th {\n",
       "        vertical-align: top;\n",
       "    }\n",
       "\n",
       "    .dataframe thead th {\n",
       "        text-align: right;\n",
       "    }\n",
       "</style>\n",
       "<table border=\"1\" class=\"dataframe\">\n",
       "  <thead>\n",
       "    <tr style=\"text-align: right;\">\n",
       "      <th></th>\n",
       "      <th>avg_salary</th>\n",
       "    </tr>\n",
       "  </thead>\n",
       "  <tbody>\n",
       "    <tr>\n",
       "      <th>0</th>\n",
       "      <td>177378.854839</td>\n",
       "    </tr>\n",
       "  </tbody>\n",
       "</table>\n",
       "</div>"
      ],
      "text/plain": [
       "      avg_salary\n",
       "0  177378.854839"
      ]
     },
     "execution_count": 668,
     "metadata": {},
     "output_type": "execute_result"
    }
   ],
   "source": [
    "result_7_2=pd.read_sql_query(query_7_2, connection)\n",
    "result_7_2"
   ]
  }
 ],
 "metadata": {
  "colab": {
   "collapsed_sections": [
    "8d62a9f3-f64e-4fe7-bdac-c4dffa16155e"
   ],
   "provenance": []
  },
  "kernelspec": {
   "display_name": "Python 3 (ipykernel)",
   "language": "python",
   "name": "python3"
  },
  "language_info": {
   "codemirror_mode": {
    "name": "ipython",
    "version": 3
   },
   "file_extension": ".py",
   "mimetype": "text/x-python",
   "name": "python",
   "nbconvert_exporter": "python",
   "pygments_lexer": "ipython3",
   "version": "3.12.4"
  }
 },
 "nbformat": 4,
 "nbformat_minor": 5
}
